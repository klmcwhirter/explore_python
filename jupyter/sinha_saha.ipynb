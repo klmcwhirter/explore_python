{
 "cells": [
  {
   "cell_type": "markdown",
   "metadata": {},
   "source": [
    "# Sinha / Saha exploration\n",
    "\n",
    "> From 4:28 mark of [New Recipe for Pi - Numberphile](https://youtu.be/nXexsSWrc1Q?t=268s)\n",
    "\n",
    "He also discusses values for lambda (λ) at 605s (10:05).\n",
    "\n",
    "`SinhaSaha:=(N, lambda) = 4+sum(1/k!*(1/(k+lambda)-4/(2*k+1))*pochhammer((2*k+1)^2/4/(k+lambda)-k, k-1), k=1..N);`\n",
    "\n",
    "![Appendix snippet](./snippet.svg)\n"
   ]
  },
  {
   "cell_type": "code",
   "execution_count": 1,
   "metadata": {},
   "outputs": [],
   "source": [
    "import sympy as sp\n",
    "\n",
    "sp.init_printing(use_unicode=True, order='old')\n",
    "\n",
    "\n",
    "def mprint(msg: str, sym: sp.Symbol | None = None) -> None:\n",
    "    print(msg)\n",
    "    if sym is not None:\n",
    "        sp.pprint(sym, use_unicode=True)\n",
    "\n",
    "\n",
    "n = sp.symbols('n', integer=True, positive=True)\n",
    "λ = sp.symbols('λ', real=True)\n",
    "SinhaSaha = sp.symbols('SinhaSaha', cls=sp.Function)"
   ]
  },
  {
   "cell_type": "markdown",
   "metadata": {},
   "source": [
    "## sympy representation of SinhaSaha"
   ]
  },
  {
   "cell_type": "code",
   "execution_count": 2,
   "metadata": {},
   "outputs": [
    {
     "data": {
      "image/png": "[encoded data removed]",
      "text/latex": [
       "$\\displaystyle 4 + \\sum_{n=1}^{200} \\frac{\\left(\\frac{1}{λ + n} - \\frac{4}{1 + 2 n}\\right) {\\left(- n + \\frac{\\left(1 + 2 n\\right)^{2}}{4 \\left(λ + n\\right)}\\right)}^{\\left(-1 + n\\right)}}{n!}$"
      ],
      "text/plain": [
       "     200                                                            \n",
       "    _____                                                           \n",
       "    ╲                                                               \n",
       "     ╲                                     ⎛              2        ⎞\n",
       "      ╲   ⎛  1        4   ⎞                ⎜     (1 + 2⋅n)         ⎟\n",
       "       ╲  ⎜───── - ───────⎟⋅RisingFactorial⎜-n + ──────────, -1 + n⎟\n",
       "4 +    ╱  ⎝λ + n   1 + 2⋅n⎠                ⎝     4⋅(λ + n)         ⎠\n",
       "      ╱   ──────────────────────────────────────────────────────────\n",
       "     ╱                                n!                            \n",
       "    ╱                                                               \n",
       "    ‾‾‾‾‾                                                           \n",
       "    n = 1                                                           "
      ]
     },
     "execution_count": 2,
     "metadata": {},
     "output_type": "execute_result"
    }
   ],
   "source": [
    "# sum_end = sp.oo\n",
    "num_terms = 200\n",
    "sum_left = (1 / sp.factorial(n)) * (1 / (n+λ) - 4 / (2*n + 1))\n",
    "sum_right = (2*n + 1)**2 / (4 * (n + λ)).factor() - n\n",
    "\n",
    "SinhaSaha = 4 + sp.Sum(sum_left * sp.rf(sum_right, n-1), (n, 1, num_terms))\n",
    "SinhaSaha"
   ]
  },
  {
   "cell_type": "code",
   "execution_count": 3,
   "metadata": {},
   "outputs": [
    {
     "data": {
      "image/png": "[encoded data removed]",
      "text/latex": [
       "$\\displaystyle 4 + \\sum_{n=1}^{200} \\frac{\\left(\\frac{1}{4.75 + n} - \\frac{4}{1 + 2 n}\\right) {\\left(- n + \\frac{\\left(1 + 2 n\\right)^{2}}{4 \\left(4.75 + n\\right)}\\right)}^{\\left(-1 + n\\right)}}{n!}$"
      ],
      "text/plain": [
       "     200                                                                 \n",
       "    _____                                                                \n",
       "    ╲                                                                    \n",
       "     ╲                                        ⎛               2         ⎞\n",
       "      ╲   ⎛   1          4   ⎞                ⎜      (1 + 2⋅n)          ⎟\n",
       "       ╲  ⎜──────── - ───────⎟⋅RisingFactorial⎜-n + ────────────, -1 + n⎟\n",
       "4 +    ╱  ⎝4.75 + n   1 + 2⋅n⎠                ⎝     4⋅(4.75 + n)        ⎠\n",
       "      ╱   ───────────────────────────────────────────────────────────────\n",
       "     ╱                                  n!                               \n",
       "    ╱                                                                    \n",
       "    ‾‾‾‾‾                                                                \n",
       "    n = 1                                                                "
      ]
     },
     "execution_count": 3,
     "metadata": {},
     "output_type": "execute_result"
    }
   ],
   "source": [
    "λ_val = 4.75\n",
    "# sub_expr = SinhaSaha.subs({λ: 3.87}).doit(deep=False)  # when sum_end = 30\n",
    "sub_expr: sp.Add = SinhaSaha.subs({λ: λ_val}).doit(deep=False)\n",
    "sub_expr\n",
    "# ss = sp.lambdify(λ, SinhaSaha, \"numpy\")\n",
    "# a = np.arange(3)\n",
    "# ss(a)"
   ]
  },
  {
   "cell_type": "code",
   "execution_count": 4,
   "metadata": {},
   "outputs": [
    {
     "name": "stdout",
     "output_type": "stream",
     "text": [
      "num_terms=200\n",
      "λ_val=4.75\n",
      "prec=50\n",
      "\n",
      "sub_expr:\n",
      "3.1415926535898597293794409779366105794906616210938\n",
      "pi:\n",
      "3.1415926535897932384626433832795028841971693993751\n",
      "sub_expr - pi:\n",
      "0.000000000000066490916797594657107695293492221718643168329317872\n"
     ]
    }
   ],
   "source": [
    "prec = 50\n",
    "\n",
    "mprint(f'{num_terms=}')\n",
    "mprint(f'{λ_val=}')\n",
    "mprint(f'{prec=}')\n",
    "print()\n",
    "\n",
    "mprint('sub_expr:', sub_expr.evalf(prec))\n",
    "\n",
    "pi = sp.pi.evalf(prec)\n",
    "mprint('pi:', pi)\n",
    "\n",
    "accuracy = (sub_expr - pi).evalf(prec)\n",
    "mprint('sub_expr - pi:', accuracy)"
   ]
  },
  {
   "cell_type": "code",
   "execution_count": 19,
   "metadata": {},
   "outputs": [],
   "source": []
  }
 ],
 "metadata": {
  "kernelspec": {
   "display_name": ".venv",
   "language": "python",
   "name": "python3"
  },
  "language_info": {
   "codemirror_mode": {
    "name": "ipython",
    "version": 3
   },
   "file_extension": ".py",
   "mimetype": "text/x-python",
   "name": "python",
   "nbconvert_exporter": "python",
   "pygments_lexer": "ipython3",
   "version": "3.12.6"
  }
 },
 "nbformat": 4,
 "nbformat_minor": 2
}
