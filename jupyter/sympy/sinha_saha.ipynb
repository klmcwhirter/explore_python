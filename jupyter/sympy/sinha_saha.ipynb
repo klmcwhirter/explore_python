{
 "cells": [
  {
   "cell_type": "markdown",
   "metadata": {},
   "source": [
    "# Sinha / Saha exploration\n",
    "\n",
    "> From 4:28 mark of [New Recipe for Pi - Numberphile](https://youtu.be/nXexsSWrc1Q?t=268s)\n",
    "\n",
    "He also discusses values for lambda (λ) at 605s (10:05).\n",
    "\n",
    "`SinhaSaha:=(N, lambda) = 4+sum(1/k!*(1/(k+lambda)-4/(2*k+1))*pochhammer((2*k+1)^2/4/(k+lambda)-k, k-1), k=1..N);`\n",
    "\n",
    "\n",
    "> Snippet from the appendix in the paper published by Sinha / Saha\n",
    "\n",
    "![Appendix snippet](./snippet.svg)\n"
   ]
  },
  {
   "cell_type": "code",
   "execution_count": 1,
   "metadata": {},
   "outputs": [],
   "source": [
    "import sympy as sp\n",
    "\n",
    "sp.init_printing(use_unicode=True, order='lex')\n",
    "\n",
    "\n",
    "def mprint(msg: str, basic: sp.Basic | str | None = None, prec: int | None = None) -> None:\n",
    "    if prec is not None:\n",
    "        print(msg, end=' ')\n",
    "        basic_str = str(basic) if type(basic) != str else basic\n",
    "        print(f'>>{basic_str[:prec]}<<', end='')\n",
    "        print(f'{basic_str[prec:]}')\n",
    "    else:\n",
    "        print(msg)\n",
    "        if basic is not None:\n",
    "            sp.pprint(basic, use_unicode=True)\n",
    "\n",
    "\n",
    "n = sp.symbols('n', integer=True, positive=True)\n",
    "λ = sp.symbols('λ', real=True)\n",
    "SinhaSaha = sp.symbols('SinhaSaha', cls=sp.Function)"
   ]
  },
  {
   "cell_type": "markdown",
   "metadata": {},
   "source": [
    "> Load control file for 1 million pi digits (pi_1000000.txt) to validate how we are using sympy.pi"
   ]
  },
  {
   "cell_type": "code",
   "execution_count": 6,
   "metadata": {},
   "outputs": [],
   "source": [
    "# read control file for 1_000_000 digits of pi\n",
    "import sys\n",
    "from pi_1000000 import read_pi_control\n",
    "\n",
    "MILLION = 1_000_000\n",
    "sys.set_int_max_str_digits(MILLION)\n",
    "\n",
    "control_pi = read_pi_control('./pi_1000000.txt', MILLION)\n",
    "\n",
    "def first_index_not_matched(s1: str, s2: str) -> int:\n",
    "    for i, (c, p) in enumerate(zip(s1, s2, strict=False)):\n",
    "        if c != p:\n",
    "            return i\n",
    "    return -1"
   ]
  },
  {
   "cell_type": "code",
   "execution_count": 7,
   "metadata": {},
   "outputs": [
    {
     "name": "stdout",
     "output_type": "stream",
     "text": [
      "len control_pi: 1_000_000\n",
      "len pi: 1_000_000\n",
      "do all digits match? True\n",
      "digits_match_until=-1\n",
      "\n",
      "1000000 digits accuracy\n"
     ]
    }
   ],
   "source": [
    "DEBUG_PI = True\n",
    "\n",
    "if DEBUG_PI:\n",
    "    PREC = MILLION\n",
    "\n",
    "    prec_pi = sp.pi.evalf(PREC)\n",
    "    prec_control_pi = control_pi.evalf(PREC)\n",
    "    accuracy = (prec_control_pi - prec_pi).evalf(PREC/2)\n",
    "    digits: int = int(sp.Abs(sp.floor(sp.log(accuracy) / sp.log(10))))\n",
    "\n",
    "    digits_match_until = first_index_not_matched(str(prec_control_pi), str(prec_pi))\n",
    "    all_digits_matched = digits_match_until == -1\n",
    "\n",
    "    # subtract 1 from len for decimal point ('.')\n",
    "    mprint(f'len control_pi: {len(str(prec_control_pi))-1:_}')\n",
    "    mprint(f'len pi: {len(str(prec_pi))-1:_}')\n",
    "\n",
    "    mprint(f'do all digits match? {all_digits_matched}')\n",
    "    mprint(f'{digits_match_until=:_}')\n",
    "\n",
    "    # mprint('control_pi:\\t', str(control_pi.evalf(PREC)), digits)\n",
    "    # mprint('pi:\\t\\t', str(pi), digits)\n",
    "\n",
    "    # mprint('control_pi - pi:', accuracy)\n",
    "\n",
    "    mprint(f'\\n{digits} digits accuracy')"
   ]
  },
  {
   "cell_type": "markdown",
   "metadata": {},
   "source": [
    "## sympy representation of SinhaSaha"
   ]
  },
  {
   "cell_type": "code",
   "execution_count": 2,
   "metadata": {},
   "outputs": [
    {
     "data": {
      "image/png": "[encoded data removed]",
      "text/latex": [
       "$\\displaystyle \\sum_{n=1}^{400} \\frac{\\left(- \\frac{4}{2 n + 1} + \\frac{1}{n + λ}\\right) {\\left(- n + \\frac{\\left(2 n + 1\\right)^{2}}{4 \\left(n + λ\\right)}\\right)}^{\\left(n - 1\\right)}}{n!} + 4$"
      ],
      "text/plain": [
       " 400                                                                 \n",
       "_____                                                                \n",
       "╲                                                                    \n",
       " ╲                                       ⎛              2       ⎞    \n",
       "  ╲   ⎛     4        1  ⎞                ⎜     (2⋅n + 1)        ⎟    \n",
       "   ╲  ⎜- ─────── + ─────⎟⋅RisingFactorial⎜-n + ──────────, n - 1⎟    \n",
       "   ╱  ⎝  2⋅n + 1   n + λ⎠                ⎝     4⋅(n + λ)        ⎠ + 4\n",
       "  ╱   ───────────────────────────────────────────────────────────    \n",
       " ╱                                n!                                 \n",
       "╱                                                                    \n",
       "‾‾‾‾‾                                                                \n",
       "n = 1                                                                "
      ]
     },
     "execution_count": 2,
     "metadata": {},
     "output_type": "execute_result"
    }
   ],
   "source": [
    "# num_terms = sp.symbols('num_terms', integer=True, positive=True)\n",
    "# num_terms = sp.oo\n",
    "num_terms = sp.Integer(400)\n",
    "\n",
    "sum_left = (1 / sp.factorial(n)) * (1 / (n+λ) - 4 / (2*n + 1))\n",
    "sum_right = (2*n + 1)**2 / (4 * (n + λ)).factor() - n\n",
    "\n",
    "SinhaSaha = 4 + sp.Sum(sum_left * sp.rf(sum_right, n-1), (n, 1, num_terms))\n",
    "SinhaSaha"
   ]
  },
  {
   "cell_type": "code",
   "execution_count": 3,
   "metadata": {},
   "outputs": [
    {
     "data": {
      "image/png": "[encoded data removed]",
      "text/latex": [
       "$\\displaystyle \\sum_{n=1}^{400} \\frac{\\left(- \\frac{4}{2 n + 1} + \\frac{1}{n + 575}\\right) {\\left(- n + \\frac{\\left(2 n + 1\\right)^{2}}{4 \\left(n + 575\\right)}\\right)}^{\\left(n - 1\\right)}}{n!} + 4$"
      ],
      "text/plain": [
       " 400                                                                    \n",
       "_____                                                                   \n",
       "╲                                                                       \n",
       " ╲                                         ⎛              2        ⎞    \n",
       "  ╲   ⎛     4         1   ⎞                ⎜     (2⋅n + 1)         ⎟    \n",
       "   ╲  ⎜- ─────── + ───────⎟⋅RisingFactorial⎜-n + ───────────, n - 1⎟    \n",
       "   ╱  ⎝  2⋅n + 1   n + 575⎠                ⎝     4⋅(n + 575)       ⎠ + 4\n",
       "  ╱   ──────────────────────────────────────────────────────────────    \n",
       " ╱                                  n!                                  \n",
       "╱                                                                       \n",
       "‾‾‾‾‾                                                                   \n",
       "n = 1                                                                   "
      ]
     },
     "execution_count": 3,
     "metadata": {},
     "output_type": "execute_result"
    }
   ],
   "source": [
    "λ_val = 575\n",
    "SinhaSaha_λ: sp.Add = SinhaSaha.subs({λ: λ_val}).doit(deep=False)\n",
    "SinhaSaha_λ"
   ]
  },
  {
   "cell_type": "code",
   "execution_count": 4,
   "metadata": {},
   "outputs": [
    {
     "data": {
      "image/png": "[encoded data removed]",
      "text/latex": [
       "$\\displaystyle 3.141592653589793238462643383279502884197169399375105820974944592307816406286208998628034825342117067982148086513282306647093850083$"
      ],
      "text/plain": [
       "3.1415926535897932384626433832795028841971693993751058209749445923078164062862 ↪\n",
       "\n",
       "↪ 08998628034825342117067982148086513282306647093850083"
      ]
     },
     "execution_count": 4,
     "metadata": {},
     "output_type": "execute_result"
    }
   ],
   "source": [
    "prec = 130\n",
    "\n",
    "SinhaSaha_prec = SinhaSaha_λ.evalf(prec)\n",
    "SinhaSaha_prec"
   ]
  },
  {
   "cell_type": "code",
   "execution_count": 8,
   "metadata": {},
   "outputs": [
    {
     "name": "stdout",
     "output_type": "stream",
     "text": [
      "num_terms=400\n",
      "λ_val=575\n",
      "prec=130\n",
      "\n",
      "control_pi:\t >>3.1415926535897932384626433832795028841971693993751058209749445923078164062862089986280348253421170679821480865132823066470938<<44610\n",
      "pi:\t\t >>3.1415926535897932384626433832795028841971693993751058209749445923078164062862089986280348253421170679821480865132823066470938<<44610\n",
      "SinhaSaha:\t >>3.1415926535897932384626433832795028841971693993751058209749445923078164062862089986280348253421170679821480865132823066470938<<50083\n",
      "\n",
      "SinhaSaha - pi:\n",
      "5.4736505513731422770961135774757228427222350468419008579974267864e-126\n",
      "\n",
      "126 digits accuracy\n"
     ]
    }
   ],
   "source": [
    "mprint(f'{num_terms=}')\n",
    "mprint(f'{λ_val=}')\n",
    "mprint(f'{prec=}')\n",
    "print()\n",
    "\n",
    "pi = sp.pi.evalf(prec)\n",
    "accuracy = (SinhaSaha_prec - pi).evalf(prec/2)\n",
    "digits: int = int(sp.Abs(sp.floor(sp.log(accuracy) / sp.log(10))))\n",
    "\n",
    "mprint('control_pi:\\t', str(control_pi.evalf(prec)), digits)\n",
    "mprint('pi:\\t\\t', str(pi), digits)\n",
    "\n",
    "mprint('SinhaSaha:\\t', str(SinhaSaha_prec), digits)\n",
    "\n",
    "mprint('\\nSinhaSaha - pi:', accuracy)\n",
    "\n",
    "mprint(f'\\n{digits} digits accuracy')"
   ]
  }
 ],
 "metadata": {
  "kernelspec": {
   "display_name": ".venv",
   "language": "python",
   "name": "python3"
  },
  "language_info": {
   "codemirror_mode": {
    "name": "ipython",
    "version": 3
   },
   "file_extension": ".py",
   "mimetype": "text/x-python",
   "name": "python",
   "nbconvert_exporter": "python",
   "pygments_lexer": "ipython3",
   "version": "3.13.0"
  }
 },
 "nbformat": 4,
 "nbformat_minor": 2
}
