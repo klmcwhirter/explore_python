{
 "cells": [
  {
   "cell_type": "markdown",
   "metadata": {},
   "source": [
    "# Sinha / Saha exploration\n",
    "\n",
    "> From 4:28 mark of [New Recipe for Pi - Numberphile](https://youtu.be/nXexsSWrc1Q?t=268s)\n",
    "\n",
    "He also discusses values for lambda (λ) at 605s (10:05).\n",
    "\n",
    "`SinhaSaha:=(N, lambda) = 4+sum(1/k!*(1/(k+lambda)-4/(2*k+1))*pochhammer((2*k+1)^2/4/(k+lambda)-k, k-1), k=1..N);`\n",
    "\n",
    "\n",
    "> Snippet from the appendix in the paper published by Sinha / Saha\n",
    "\n",
    "![Appendix snippet](./snippet.svg)\n"
   ]
  },
  {
   "cell_type": "code",
   "execution_count": 1,
   "metadata": {},
   "outputs": [
    {
     "name": "stdout",
     "output_type": "stream",
     "text": [
      "cache_reset: len(_cache)=401\n"
     ]
    }
   ],
   "source": [
    "import logging\n",
    "import sys\n",
    "\n",
    "import cached_factorial as cf\n",
    "import numpy as np\n",
    "import scipy as sp\n",
    "import sympy as sym\n",
    "from latex_utils import set_display_level, sym_display_latex\n",
    "\n",
    "N = 400\n",
    "cf.set_cache_size(N)\n",
    "cf.set_progress_frequency(np.floor(N / 10))\n",
    "\n",
    "cf.cached_factorial.cache_reset()\n",
    "\n",
    "set_display_level(logging.INFO)\n",
    "\n",
    "sym.init_printing()\n",
    "\n",
    "\n",
    "MILLION = 1_000_000\n",
    "sys.set_int_max_str_digits(MILLION)\n",
    "\n",
    "\n",
    "def mprint(msg: str, basic: sym.Basic | str | None = None, prec: int | None = None) -> None:\n",
    "    if prec is not None:\n",
    "        print(msg, end=' ')\n",
    "        basic_str = str(basic) if type(basic) != str else basic\n",
    "        prec = len(basic_str) if prec == -1 else prec\n",
    "        print(f'>>{basic_str[:prec]}<<', end='')\n",
    "        print(f'{basic_str[prec:]}')\n",
    "    else:\n",
    "        print(msg)\n",
    "        if basic is not None:\n",
    "            sym_display_latex('', basic)"
   ]
  },
  {
   "cell_type": "markdown",
   "metadata": {},
   "source": [
    "> Load control file for 1 million pi digits (pi_1000000.txt) to validate how we are using sympy.pi"
   ]
  },
  {
   "cell_type": "code",
   "execution_count": 2,
   "metadata": {},
   "outputs": [],
   "source": [
    "# read control file for 1_000_000 digits of pi\n",
    "\n",
    "from pi_1000000 import read_pi_control\n",
    "\n",
    "control_pi = read_pi_control('./pi_1000000.txt', MILLION)\n",
    "\n",
    "\n",
    "def first_index_not_matched(s1: str, s2: str) -> int:\n",
    "    for i, (c, p) in enumerate(zip(s1, s2)):\n",
    "        if c != p:\n",
    "            return i\n",
    "    return -1"
   ]
  },
  {
   "cell_type": "code",
   "execution_count": 3,
   "metadata": {},
   "outputs": [
    {
     "name": "stdout",
     "output_type": "stream",
     "text": [
      "len control_pi: 1_000_000\n",
      "len pi: 1_000_000\n",
      "do all digits match? True\n",
      "digits_match_until=-1\n",
      "\n",
      "1000000 digits accuracy\n"
     ]
    }
   ],
   "source": [
    "PREC = MILLION\n",
    "\n",
    "DEBUG_PI = True\n",
    "\n",
    "if DEBUG_PI:\n",
    "    prec_pi = sym.pi.evalf(PREC)\n",
    "    prec_control_pi = control_pi.evalf(PREC)\n",
    "\n",
    "    accuracy = (prec_control_pi - prec_pi).evalf(PREC/2)\n",
    "    digits: int = int(sym.Abs(sym.floor(sym.log(accuracy) / sym.log(10))))\n",
    "\n",
    "    digits_match_until = first_index_not_matched(str(prec_control_pi), str(prec_pi))\n",
    "    all_digits_matched = digits_match_until == -1\n",
    "\n",
    "    # subtract 1 from len for decimal point ('.')\n",
    "    mprint(f'len control_pi: {len(str(prec_control_pi))-1:_}')\n",
    "    mprint(f'len pi: {len(str(prec_pi))-1:_}')\n",
    "\n",
    "    mprint(f'do all digits match? {all_digits_matched}')\n",
    "    mprint(f'{digits_match_until=:_}')\n",
    "\n",
    "    # mprint('control_pi:\\t', str(prec_control_pi), digits)\n",
    "    # mprint('pi:\\t\\t', str(prec_pi), digits)\n",
    "\n",
    "    # mprint('control_pi - pi:', accuracy)\n",
    "\n",
    "    mprint(f'\\n{digits} digits accuracy')"
   ]
  },
  {
   "cell_type": "markdown",
   "metadata": {},
   "source": [
    "## sympy representation of SinhaSaha"
   ]
  },
  {
   "cell_type": "code",
   "execution_count": 4,
   "metadata": {},
   "outputs": [
    {
     "data": {
      "image/png": "[encoded data removed]",
      "text/latex": [
       "$\\displaystyle \\left(- \\frac{4}{2 n + 1} + \\frac{1}{n + λ}\\right) {\\left(- n + \\frac{\\left(2 n + 1\\right)^{2}}{4 \\left(n + λ\\right)}\\right)}^{\\left(n - 1\\right)}$"
      ],
      "text/plain": [
       "                                   ⎛              2       ⎞\n",
       "⎛     4        1  ⎞                ⎜     (2⋅n + 1)        ⎟\n",
       "⎜- ─────── + ─────⎟⋅RisingFactorial⎜-n + ──────────, n - 1⎟\n",
       "⎝  2⋅n + 1   n + λ⎠                ⎝     4⋅(n + λ)        ⎠"
      ]
     },
     "execution_count": 4,
     "metadata": {},
     "output_type": "execute_result"
    }
   ],
   "source": [
    "n = sym.symbols('n', integer=True, positive=True)\n",
    "λ, π = sym.symbols('λ π', real=True)\n",
    "SinhaSaha = sym.symbols('SinhaSaha', cls=sym.Function)\n",
    "\n",
    "sum_left_no_factorial = 1 / (n+λ) - 4 / (2*n + 1)\n",
    "sum_right = (2*n + 1)**2 / (4 * (n + λ)).factor() - n\n",
    "\n",
    "sum_inner = sum_left_no_factorial * sym.RisingFactorial(sum_right, n-1)\n",
    "sum_inner"
   ]
  },
  {
   "cell_type": "code",
   "execution_count": 5,
   "metadata": {},
   "outputs": [
    {
     "data": {
      "image/png": "[encoded data removed]",
      "text/latex": [
       "$\\displaystyle \\sum_{n=1}^{nterms} \\frac{\\left(- \\frac{4}{2 n + 1} + \\frac{1}{n + λ}\\right) {\\left(- n + \\frac{\\left(2 n + 1\\right)^{2}}{4 \\left(n + λ\\right)}\\right)}^{\\left(n - 1\\right)}}{n!} + 4$"
      ],
      "text/plain": [
       "nterms                                                                \n",
       "_____                                                                 \n",
       "╲                                                                     \n",
       " ╲                                        ⎛              2       ⎞    \n",
       "  ╲    ⎛     4        1  ⎞                ⎜     (2⋅n + 1)        ⎟    \n",
       "   ╲   ⎜- ─────── + ─────⎟⋅RisingFactorial⎜-n + ──────────, n - 1⎟    \n",
       "   ╱   ⎝  2⋅n + 1   n + λ⎠                ⎝     4⋅(n + λ)        ⎠ + 4\n",
       "  ╱    ───────────────────────────────────────────────────────────    \n",
       " ╱                                 n!                                 \n",
       "╱                                                                     \n",
       "‾‾‾‾‾                                                                 \n",
       "n = 1                                                                 "
      ]
     },
     "execution_count": 5,
     "metadata": {},
     "output_type": "execute_result"
    }
   ],
   "source": [
    "nterms = sym.symbols('nterms', integer=True, positive=True)\n",
    "# nterms = sym.oo\n",
    "# nterms = sym.Integer(400)\n",
    "# nterms = sym.Integer(PREC)\n",
    "\n",
    "# def reciprocal_factorial(n: int):\n",
    "#     return 1 / cf.cached_factorial(n)\n",
    "\n",
    "SinhaSaha = 4 + sym.Sum((1 / sym.factorial(n)) * sum_inner, (n, 1, nterms))\n",
    "SinhaSaha"
   ]
  },
  {
   "cell_type": "code",
   "execution_count": 37,
   "metadata": {},
   "outputs": [
    {
     "data": {
      "image/png": "[encoded data removed]",
      "text/latex": [
       "$\\displaystyle \\sum_{n=1}^{800} \\frac{\\left(- \\frac{4}{2 n + 1} + \\frac{1}{n + 575}\\right) {\\left(- n + \\frac{\\left(2 n + 1\\right)^{2}}{4 \\left(n + 575\\right)}\\right)}^{\\left(n - 1\\right)}}{n!} + 4$"
      ],
      "text/plain": [
       " 800                                                                    \n",
       "_____                                                                   \n",
       "╲                                                                       \n",
       " ╲                                         ⎛              2        ⎞    \n",
       "  ╲   ⎛     4         1   ⎞                ⎜     (2⋅n + 1)         ⎟    \n",
       "   ╲  ⎜- ─────── + ───────⎟⋅RisingFactorial⎜-n + ───────────, n - 1⎟    \n",
       "   ╱  ⎝  2⋅n + 1   n + 575⎠                ⎝     4⋅(n + 575)       ⎠ + 4\n",
       "  ╱   ──────────────────────────────────────────────────────────────    \n",
       " ╱                                  n!                                  \n",
       "╱                                                                       \n",
       "‾‾‾‾‾                                                                   \n",
       "n = 1                                                                   "
      ]
     },
     "execution_count": 37,
     "metadata": {},
     "output_type": "execute_result"
    }
   ],
   "source": [
    "N = 800\n",
    "λ_val = 575\n",
    "prec = 250\n",
    "\n",
    "SinhaSaha_subs = SinhaSaha.subs({λ: λ_val, nterms: N})\n",
    "SinhaSaha_subs"
   ]
  },
  {
   "cell_type": "code",
   "execution_count": 38,
   "metadata": {},
   "outputs": [
    {
     "data": {
      "image/png": "[encoded data removed]",
      "text/latex": [
       "$\\displaystyle π = \\sum_{n=1}^{800} \\frac{\\left(- \\frac{4}{2 n + 1} + \\frac{1}{n + 575}\\right) {\\left(- n + \\frac{\\left(2 n + 1\\right)^{2}}{4 \\left(n + 575\\right)}\\right)}^{\\left(n - 1\\right)}}{n!} + 4$"
      ],
      "text/plain": [
       "     800                                                                    \n",
       "    _____                                                                   \n",
       "    ╲                                                                       \n",
       "     ╲                                         ⎛              2        ⎞    \n",
       "      ╲   ⎛     4         1   ⎞                ⎜     (2⋅n + 1)         ⎟    \n",
       "       ╲  ⎜- ─────── + ───────⎟⋅RisingFactorial⎜-n + ───────────, n - 1⎟    \n",
       "π =    ╱  ⎝  2⋅n + 1   n + 575⎠                ⎝     4⋅(n + 575)       ⎠ + 4\n",
       "      ╱   ──────────────────────────────────────────────────────────────    \n",
       "     ╱                                  n!                                  \n",
       "    ╱                                                                       \n",
       "    ‾‾‾‾‾                                                                   \n",
       "    n = 1                                                                   "
      ]
     },
     "execution_count": 38,
     "metadata": {},
     "output_type": "execute_result"
    }
   ],
   "source": [
    "SinhaSaha_complete = sym.Eq(π, SinhaSaha_subs)\n",
    "SinhaSaha_complete"
   ]
  },
  {
   "cell_type": "code",
   "execution_count": null,
   "metadata": {},
   "outputs": [],
   "source": []
  },
  {
   "cell_type": "code",
   "execution_count": 39,
   "metadata": {},
   "outputs": [
    {
     "data": {
      "image/png": "[encoded data removed]",
      "text/latex": [
       "$\\displaystyle 3.14159265358979323846264338327950288419716939937510582097494459230781640628620899862803482534211706798214808651328230664709384460955058223172535940812848111745028410270193852110555964462294895493038196442881097566593344612847564823378678316527063801$"
      ],
      "text/plain": [
       "3.1415926535897932384626433832795028841971693993751058209749445923078164062862 ↪\n",
       "\n",
       "↪ 0899862803482534211706798214808651328230664709384460955058223172535940812848 ↪\n",
       "\n",
       "↪ 1117450284102701938521105559644622948954930381964428810975665933446128475648 ↪\n",
       "\n",
       "↪ 233786783165270638010"
      ]
     },
     "execution_count": 39,
     "metadata": {},
     "output_type": "execute_result"
    }
   ],
   "source": [
    "SinhaSaha_prec = SinhaSaha_subs.evalf(prec)\n",
    "SinhaSaha_prec"
   ]
  },
  {
   "cell_type": "code",
   "execution_count": 40,
   "metadata": {},
   "outputs": [
    {
     "name": "stdout",
     "output_type": "stream",
     "text": [
      "N=800\n",
      "λ_val=575\n",
      "prec=250\n",
      "\n",
      "control_pi:\t >>3.14159265358979323846264338327950288419716939937510582097494459230781640628620899862803482534211706798214808651328230664709384460955058223172535940812848111745028410270193852110555964462294895493038196442881097566593344612847564823378678316527<<1201909\n",
      "pi:\t\t >>3.14159265358979323846264338327950288419716939937510582097494459230781640628620899862803482534211706798214808651328230664709384460955058223172535940812848111745028410270193852110555964462294895493038196442881097566593344612847564823378678316527<<1201909\n",
      "SinhaSaha:\t >>3.14159265358979323846264338327950288419716939937510582097494459230781640628620899862803482534211706798214808651328230664709384460955058223172535940812848111745028410270193852110555964462294895493038196442881097566593344612847564823378678316527<<0638010\n",
      "\n",
      "SinhaSaha - pi:\n",
      "\n",
      "244 digits accuracy\n"
     ]
    }
   ],
   "source": [
    "mprint(f'{N=}')\n",
    "mprint(f'{λ_val=}')\n",
    "mprint(f'{prec=}')\n",
    "print()\n",
    "\n",
    "pi = sym.pi.evalf(prec)\n",
    "accuracy = (SinhaSaha_prec - pi).evalf(prec/2)\n",
    "# print(SinhaSaha_prec)\n",
    "# print(pi)\n",
    "# print(accuracy)\n",
    "\n",
    "digits: int = int(sym.Abs(sym.floor(sym.log(accuracy) / sym.log(10))))\n",
    "# digits = prec\n",
    "\n",
    "mprint('control_pi:\\t', str(control_pi.evalf(prec)), digits)\n",
    "mprint('pi:\\t\\t', str(pi), digits)\n",
    "\n",
    "mprint('SinhaSaha:\\t', str(SinhaSaha_prec), digits)\n",
    "\n",
    "mprint('\\nSinhaSaha - pi:', accuracy)\n",
    "\n",
    "mprint(f'\\n{digits} digits accuracy')"
   ]
  },
  {
   "cell_type": "code",
   "execution_count": null,
   "metadata": {},
   "outputs": [],
   "source": []
  }
 ],
 "metadata": {
  "kernelspec": {
   "display_name": ".venv",
   "language": "python",
   "name": "python3"
  },
  "language_info": {
   "codemirror_mode": {
    "name": "ipython",
    "version": 3
   },
   "file_extension": ".py",
   "mimetype": "text/x-python",
   "name": "python",
   "nbconvert_exporter": "python",
   "pygments_lexer": "ipython3",
   "version": "3.13.0"
  }
 },
 "nbformat": 4,
 "nbformat_minor": 2
}
