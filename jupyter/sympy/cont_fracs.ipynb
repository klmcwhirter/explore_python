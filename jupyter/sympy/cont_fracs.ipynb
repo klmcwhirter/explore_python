{
 "cells": [
  {
   "cell_type": "markdown",
   "metadata": {},
   "source": [
    "# Continued Fractions\n",
    "From the tutorial exercise at [Example: Continued Fractions](https://docs.sympy.org/latest/tutorials/intro-tutorial/simplification.html#example-continued-fractions)"
   ]
  },
  {
   "cell_type": "code",
   "execution_count": 6,
   "metadata": {},
   "outputs": [],
   "source": [
    "from collections.abc import Iterator\n",
    "\n",
    "import sympy as sym\n",
    "from latex_utils import sym_display_latex\n",
    "\n",
    "sym.init_printing(use_unicode=True, order='lex')\n",
    "\n",
    "\n",
    "def find_symbols(basic: sym.Basic) -> set[sym.Symbol]:\n",
    "    return {s for s in basic.atoms() if type(s) is sym.Symbol}\n",
    "\n",
    "\n",
    "def find_symbol_not_in_denom(rat: sym.Rational, syms: Iterator[sym.Symbol]) -> sym.Symbol:\n",
    "    numer, denom = rat.as_numer_denom()\n",
    "    # mprint('rat.numer:', numer)\n",
    "    # mprint('rat.denom:', denom)\n",
    "\n",
    "    denom_syms = find_symbols(denom)\n",
    "    for s in syms:\n",
    "        # return first match\n",
    "        if s not in denom_syms:\n",
    "            return s\n",
    "\n",
    "\n",
    "def frac_to_list(frac: sym.Expr) -> list[sym.Symbol]:\n",
    "    atoms: set[sym.Symbol] = find_symbols(frac)\n",
    "    mprint(f'frac.atoms: {atoms}')\n",
    "\n",
    "    l1 = []\n",
    "    while len(atoms) > 0:\n",
    "        s = find_symbol_not_in_denom(frac.cancel(), atoms)\n",
    "        # mprint('s=', s)\n",
    "\n",
    "        l1.append(s)\n",
    "        # mprint(f'after {l1=}')\n",
    "\n",
    "        atoms.remove(s)\n",
    "        # mprint(f'after {atoms=}')\n",
    "\n",
    "        frac = sym.apart(frac, s)\n",
    "        # mprint(f'apart {sym}', frac)\n",
    "\n",
    "        frac = 1/(frac - s)\n",
    "        # mprint('reciprocal:', frac)\n",
    "\n",
    "    mprint(f'{l1=}')\n",
    "\n",
    "    return l1\n",
    "\n",
    "\n",
    "def list_to_frac(l: list[sym.Symbol]) -> sym.Expr:\n",
    "    expr = sym.Integer(0)\n",
    "    for i in reversed(l[1:]):\n",
    "        expr = sym.Add(expr, i, evaluate=False)\n",
    "        expr = sym.Pow(expr, -1, evaluate=False)\n",
    "    return sym.Add(l[0], expr, evaluate=False)\n",
    "\n",
    "\n",
    "def mprint(msg: str, s: sym.Symbol | None = None) -> None:\n",
    "    print(msg)\n",
    "    if s is not None:\n",
    "        sym_display_latex('', s)"
   ]
  },
  {
   "cell_type": "code",
   "execution_count": 7,
   "metadata": {},
   "outputs": [
    {
     "name": "stdout",
     "output_type": "stream",
     "text": [
      "frac:\n"
     ]
    },
    {
     "data": {
      "text/latex": [
       "$\\displaystyle a_{1} + \\frac{1}{a_{2} + \\frac{1}{a_{0} + \\frac{1}{a_{3} + \\frac{1}{a_{4} + 0}}}}$"
      ],
      "text/plain": [
       "<IPython.core.display.Math object>"
      ]
     },
     "metadata": {},
     "output_type": "display_data"
    }
   ],
   "source": [
    "import random\n",
    "syms = sym.symbols('a0:5', integer=True, positive=True)\n",
    "l = list(syms)\n",
    "del syms\n",
    "\n",
    "random.shuffle(l)\n",
    "frac = list_to_frac(l)\n",
    "mprint('frac:', frac)\n",
    "orig_frac = frac = sym.cancel(frac)\n",
    "del l"
   ]
  },
  {
   "cell_type": "code",
   "execution_count": 8,
   "metadata": {},
   "outputs": [
    {
     "name": "stdout",
     "output_type": "stream",
     "text": [
      "frac:\n"
     ]
    },
    {
     "data": {
      "text/latex": [
       "$\\displaystyle \\frac{a_{0} a_{1} a_{2} a_{3} a_{4} + a_{0} a_{1} a_{2} + a_{0} a_{3} a_{4} + a_{0} + a_{1} a_{2} a_{4} + a_{1} a_{3} a_{4} + a_{1} + a_{4}}{a_{0} a_{2} a_{3} a_{4} + a_{0} a_{2} + a_{2} a_{4} + a_{3} a_{4} + 1}$"
      ],
      "text/plain": [
       "<IPython.core.display.Math object>"
      ]
     },
     "metadata": {},
     "output_type": "display_data"
    },
    {
     "name": "stdout",
     "output_type": "stream",
     "text": [
      "\n",
      "frac.atoms: {a0, a2, a3, a1, a4}\n",
      "l1=[a1, a2, a0, a3, a4]\n",
      "\n",
      "new_frac:\n"
     ]
    },
    {
     "data": {
      "text/latex": [
       "$\\displaystyle \\frac{a_{0} a_{1} a_{2} a_{3} a_{4} + a_{0} a_{1} a_{2} + a_{0} a_{3} a_{4} + a_{0} + a_{1} a_{2} a_{4} + a_{1} a_{3} a_{4} + a_{1} + a_{4}}{a_{0} a_{2} a_{3} a_{4} + a_{0} a_{2} + a_{2} a_{4} + a_{3} a_{4} + 1}$"
      ],
      "text/plain": [
       "<IPython.core.display.Math object>"
      ]
     },
     "metadata": {},
     "output_type": "display_data"
    }
   ],
   "source": [
    "mprint('frac:', frac)\n",
    "print()\n",
    "\n",
    "new_expr = list_to_frac(frac_to_list(frac))\n",
    "new_frac = new_expr.cancel()\n",
    "\n",
    "print()\n",
    "mprint('new_frac:', new_frac)\n"
   ]
  },
  {
   "cell_type": "code",
   "execution_count": 9,
   "metadata": {},
   "outputs": [
    {
     "name": "stdout",
     "output_type": "stream",
     "text": [
      "orig_frac:\n"
     ]
    },
    {
     "data": {
      "text/latex": [
       "$\\displaystyle \\frac{a_{0} a_{1} a_{2} a_{3} a_{4} + a_{0} a_{1} a_{2} + a_{0} a_{3} a_{4} + a_{0} + a_{1} a_{2} a_{4} + a_{1} a_{3} a_{4} + a_{1} + a_{4}}{a_{0} a_{2} a_{3} a_{4} + a_{0} a_{2} + a_{2} a_{4} + a_{3} a_{4} + 1}$"
      ],
      "text/plain": [
       "<IPython.core.display.Math object>"
      ]
     },
     "metadata": {},
     "output_type": "display_data"
    },
    {
     "name": "stdout",
     "output_type": "stream",
     "text": [
      "\n",
      "new_frac:\n"
     ]
    },
    {
     "data": {
      "text/latex": [
       "$\\displaystyle \\frac{a_{0} a_{1} a_{2} a_{3} a_{4} + a_{0} a_{1} a_{2} + a_{0} a_{3} a_{4} + a_{0} + a_{1} a_{2} a_{4} + a_{1} a_{3} a_{4} + a_{1} + a_{4}}{a_{0} a_{2} a_{3} a_{4} + a_{0} a_{2} + a_{2} a_{4} + a_{3} a_{4} + 1}$"
      ],
      "text/plain": [
       "<IPython.core.display.Math object>"
      ]
     },
     "metadata": {},
     "output_type": "display_data"
    },
    {
     "name": "stdout",
     "output_type": "stream",
     "text": [
      "\n",
      "Drum roll please ... are they equivalent? True\n",
      "\n",
      "new_expr:\n"
     ]
    },
    {
     "data": {
      "text/latex": [
       "$\\displaystyle a_{1} + \\frac{1}{a_{2} + \\frac{1}{a_{0} + \\frac{1}{a_{3} + \\frac{1}{a_{4} + 0}}}}$"
      ],
      "text/plain": [
       "<IPython.core.display.Math object>"
      ]
     },
     "metadata": {},
     "output_type": "display_data"
    }
   ],
   "source": [
    "mprint('orig_frac:', orig_frac)\n",
    "print()\n",
    "mprint('new_frac:', new_frac)\n",
    "\n",
    "mprint(f'\\nDrum roll please ... are they equivalent? {sym.Eq(orig_frac, new_frac)}')\n",
    "\n",
    "mprint('\\nnew_expr:', new_expr)"
   ]
  }
 ],
 "metadata": {
  "kernelspec": {
   "display_name": ".venv",
   "language": "python",
   "name": "python3"
  },
  "language_info": {
   "codemirror_mode": {
    "name": "ipython",
    "version": 3
   },
   "file_extension": ".py",
   "mimetype": "text/x-python",
   "name": "python",
   "nbconvert_exporter": "python",
   "pygments_lexer": "ipython3",
   "version": "3.12.6"
  }
 },
 "nbformat": 4,
 "nbformat_minor": 2
}
