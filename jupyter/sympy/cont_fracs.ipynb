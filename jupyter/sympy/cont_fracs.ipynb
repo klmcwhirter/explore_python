{
 "cells": [
  {
   "cell_type": "markdown",
   "metadata": {},
   "source": [
    "# Continued Fractions\n",
    "From the tutorial exercise at [Example: Continued Fractions](https://docs.sympy.org/latest/tutorials/intro-tutorial/simplification.html#example-continued-fractions)"
   ]
  },
  {
   "cell_type": "code",
   "execution_count": 10,
   "metadata": {},
   "outputs": [],
   "source": [
    "from collections.abc import Iterator\n",
    "import sympy as sp\n",
    "\n",
    "sp.init_printing(use_unicode=True, order='lex')\n",
    "\n",
    "\n",
    "def find_symbols(basic: sp.Basic) -> set[sp.Symbol]:\n",
    "    return {s for s in basic.atoms() if type(s) is sp.Symbol}\n",
    "\n",
    "\n",
    "def find_symbol_not_in_denom(rat: sp.Rational, syms: Iterator[sp.Symbol]) -> sp.Symbol:\n",
    "    numer, denom = rat.as_numer_denom()\n",
    "    # mprint('rat.numer:', numer)\n",
    "    # mprint('rat.denom:', denom)\n",
    "\n",
    "    denom_syms = find_symbols(denom)\n",
    "    for sym in syms:\n",
    "        # return first match\n",
    "        if sym not in denom_syms:\n",
    "            return sym\n",
    "\n",
    "\n",
    "def frac_to_list(frac: sp.Expr) -> list[sp.Symbol]:\n",
    "    atoms: set[sp.Symbol] = find_symbols(frac)\n",
    "    mprint(f'frac.atoms: {atoms}')\n",
    "\n",
    "    l1 = []\n",
    "    while len(atoms) > 0:\n",
    "        sym = find_symbol_not_in_denom(frac.cancel(), atoms)\n",
    "        mprint(f'{sym=}')\n",
    "        l1.append(sym)\n",
    "        # mprint(f'after {l1=}')\n",
    "\n",
    "        atoms.remove(sym)\n",
    "        # mprint(f'after {atoms=}')\n",
    "\n",
    "        frac = sp.apart(frac, sym)\n",
    "        # mprint(f'apart {sym}', frac)\n",
    "\n",
    "        frac = 1/(frac - sym)\n",
    "        # mprint('reciprocal:', frac)\n",
    "\n",
    "    mprint(f'{l1=}')\n",
    "\n",
    "    return l1\n",
    "\n",
    "\n",
    "def list_to_frac(l: list[sp.Symbol]) -> sp.Expr:\n",
    "    expr = sp.Integer(0)\n",
    "    for i in reversed(l[1:]):\n",
    "        expr = sp.Add(expr, i, evaluate=False)\n",
    "        expr = sp.Pow(expr, -1, evaluate=False)\n",
    "    return sp.Add(l[0], expr, evaluate=False)\n",
    "\n",
    "\n",
    "def mprint(msg: str, sym: sp.Symbol | None = None) -> None:\n",
    "    print(msg)\n",
    "    if sym is not None:\n",
    "        sp.pprint(sym, use_unicode=True)"
   ]
  },
  {
   "cell_type": "code",
   "execution_count": 11,
   "metadata": {},
   "outputs": [
    {
     "name": "stdout",
     "output_type": "stream",
     "text": [
      "frac:\n",
      "               1          \n",
      "a₂ + ─────────────────────\n",
      "                 1        \n",
      "     a₀ + ────────────────\n",
      "                    1     \n",
      "          a₄ + ───────────\n",
      "                      1   \n",
      "               a₁ + ──────\n",
      "                    a₃ + 0\n"
     ]
    }
   ],
   "source": [
    "import random\n",
    "syms = sp.symbols('a0:5', integer=True, positive=True)\n",
    "l = list(syms)\n",
    "del syms\n",
    "\n",
    "random.shuffle(l)\n",
    "frac = list_to_frac(l)\n",
    "mprint('frac:', frac)\n",
    "orig_frac = frac = sp.cancel(frac)\n",
    "del l"
   ]
  },
  {
   "cell_type": "code",
   "execution_count": 12,
   "metadata": {},
   "outputs": [
    {
     "name": "stdout",
     "output_type": "stream",
     "text": [
      "frac:\n",
      "a₀⋅a₁⋅a₂⋅a₃⋅a₄ + a₀⋅a₂⋅a₃ + a₀⋅a₂⋅a₄ + a₁⋅a₂⋅a₃ + a₁⋅a₃⋅a₄ + a₂ + a₃ + a₄\n",
      "─────────────────────────────────────────────────────────────────────────\n",
      "                 a₀⋅a₁⋅a₃⋅a₄ + a₀⋅a₃ + a₀⋅a₄ + a₁⋅a₃ + 1                 \n",
      "\n",
      "frac.atoms: {a0, a4, a2, a1, a3}\n",
      "sym=a2\n",
      "sym=a0\n",
      "sym=a4\n",
      "sym=a1\n",
      "sym=a3\n",
      "l1=[a2, a0, a4, a1, a3]\n",
      "\n",
      "new_frac:\n",
      "a₀⋅a₁⋅a₂⋅a₃⋅a₄ + a₀⋅a₂⋅a₃ + a₀⋅a₂⋅a₄ + a₁⋅a₂⋅a₃ + a₁⋅a₃⋅a₄ + a₂ + a₃ + a₄\n",
      "─────────────────────────────────────────────────────────────────────────\n",
      "                 a₀⋅a₁⋅a₃⋅a₄ + a₀⋅a₃ + a₀⋅a₄ + a₁⋅a₃ + 1                 \n"
     ]
    }
   ],
   "source": [
    "mprint('frac:', frac)\n",
    "print()\n",
    "\n",
    "new_frac = list_to_frac(frac_to_list(frac)).cancel()\n",
    "\n",
    "print()\n",
    "mprint('new_frac:', new_frac)\n"
   ]
  },
  {
   "cell_type": "code",
   "execution_count": 13,
   "metadata": {},
   "outputs": [
    {
     "name": "stdout",
     "output_type": "stream",
     "text": [
      "orig_frac:\n",
      "a₀⋅a₁⋅a₂⋅a₃⋅a₄ + a₀⋅a₂⋅a₃ + a₀⋅a₂⋅a₄ + a₁⋅a₂⋅a₃ + a₁⋅a₃⋅a₄ + a₂ + a₃ + a₄\n",
      "─────────────────────────────────────────────────────────────────────────\n",
      "                 a₀⋅a₁⋅a₃⋅a₄ + a₀⋅a₃ + a₀⋅a₄ + a₁⋅a₃ + 1                 \n",
      "\n",
      "new_frac:\n",
      "a₀⋅a₁⋅a₂⋅a₃⋅a₄ + a₀⋅a₂⋅a₃ + a₀⋅a₂⋅a₄ + a₁⋅a₂⋅a₃ + a₁⋅a₃⋅a₄ + a₂ + a₃ + a₄\n",
      "─────────────────────────────────────────────────────────────────────────\n",
      "                 a₀⋅a₁⋅a₃⋅a₄ + a₀⋅a₃ + a₀⋅a₄ + a₁⋅a₃ + 1                 \n",
      "\n",
      "Drum roll please ... are they equivalent?\n",
      "True\n"
     ]
    }
   ],
   "source": [
    "mprint('orig_frac:', orig_frac)\n",
    "print()\n",
    "mprint('new_frac:', new_frac)\n",
    "\n",
    "mprint('\\nDrum roll please ... are they equivalent?', sp.Eq(orig_frac, new_frac))"
   ]
  }
 ],
 "metadata": {
  "kernelspec": {
   "display_name": ".venv",
   "language": "python",
   "name": "python3"
  },
  "language_info": {
   "codemirror_mode": {
    "name": "ipython",
    "version": 3
   },
   "file_extension": ".py",
   "mimetype": "text/x-python",
   "name": "python",
   "nbconvert_exporter": "python",
   "pygments_lexer": "ipython3",
   "version": "3.12.6"
  }
 },
 "nbformat": 4,
 "nbformat_minor": 2
}
