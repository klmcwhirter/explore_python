{
 "cells": [
  {
   "cell_type": "markdown",
   "metadata": {},
   "source": [
    "### [Helping you with the integral of 1/(x^2*(x^2+1)^(3/2)) using trigonometric substitution, Calculus 2](https://youtu.be/EMJNUIXYbH4)"
   ]
  },
  {
   "cell_type": "code",
   "execution_count": 51,
   "metadata": {},
   "outputs": [],
   "source": [
    "import sympy as sp\n",
    "\n",
    "sp.init_printing(use_unicode=True, order='old')"
   ]
  },
  {
   "cell_type": "code",
   "execution_count": 52,
   "metadata": {},
   "outputs": [
    {
     "data": {
      "image/png": "[encoded data removed]",
      "text/latex": [
       "$\\displaystyle \\int \\frac{1}{x^{2} \\left(1 + x^{2}\\right)^{\\frac{3}{2}}}\\, dx$"
      ],
      "text/plain": [
       "⌠                  \n",
       "⎮       1          \n",
       "⎮ ────────────── dx\n",
       "⎮            3/2   \n",
       "⎮  2 ⎛     2⎞      \n",
       "⎮ x ⋅⎝1 + x ⎠      \n",
       "⌡                  "
      ]
     },
     "execution_count": 52,
     "metadata": {},
     "output_type": "execute_result"
    }
   ],
   "source": [
    "x, C = sp.symbols('x C')\n",
    "\n",
    "integral = sp.Integral(1 / (x**2 * (x**2 + 1)**sp.Rational(3, 2)), x)\n",
    "integral"
   ]
  },
  {
   "cell_type": "code",
   "execution_count": 53,
   "metadata": {},
   "outputs": [
    {
     "data": {
      "image/png": "[encoded data removed]",
      "text/latex": [
       "$\\displaystyle C - \\frac{\\sqrt{1 + x^{2}}}{x} - \\frac{x}{\\sqrt{1 + x^{2}}}$"
      ],
      "text/plain": [
       "       ________              \n",
       "      ╱      2               \n",
       "    ╲╱  1 + x          x     \n",
       "C - ─────────── - ───────────\n",
       "         x           ________\n",
       "                    ╱      2 \n",
       "                  ╲╱  1 + x  "
      ]
     },
     "execution_count": 53,
     "metadata": {},
     "output_type": "execute_result"
    }
   ],
   "source": [
    "sp.Add(integral.doit(manual=True), C)"
   ]
  },
  {
   "cell_type": "markdown",
   "metadata": {},
   "source": [
    "### This is what bprp ended up with ..."
   ]
  },
  {
   "cell_type": "code",
   "execution_count": 54,
   "metadata": {},
   "outputs": [
    {
     "data": {
      "image/png": "[encoded data removed]",
      "text/latex": [
       "$\\displaystyle C - \\frac{\\sqrt{1 + x^{2}}}{x} - \\frac{x}{\\sqrt{1 + x^{2}}}$"
      ],
      "text/plain": [
       "       ________              \n",
       "      ╱      2               \n",
       "    ╲╱  1 + x          x     \n",
       "C - ─────────── - ───────────\n",
       "         x           ________\n",
       "                    ╱      2 \n",
       "                  ╲╱  1 + x  "
      ]
     },
     "execution_count": 54,
     "metadata": {},
     "output_type": "execute_result"
    }
   ],
   "source": [
    "ans = (-sp.sqrt(x**2 + 1) / x) - (x / sp.sqrt(x**2 + 1)) + C\n",
    "ans"
   ]
  }
 ],
 "metadata": {
  "kernelspec": {
   "display_name": ".venv",
   "language": "python",
   "name": "python3"
  },
  "language_info": {
   "codemirror_mode": {
    "name": "ipython",
    "version": 3
   },
   "file_extension": ".py",
   "mimetype": "text/x-python",
   "name": "python",
   "nbconvert_exporter": "python",
   "pygments_lexer": "ipython3",
   "version": "3.12.6"
  }
 },
 "nbformat": 4,
 "nbformat_minor": 2
}
