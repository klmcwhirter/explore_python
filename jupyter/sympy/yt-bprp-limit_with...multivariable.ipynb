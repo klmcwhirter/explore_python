{
 "cells": [
  {
   "cell_type": "markdown",
   "metadata": {},
   "source": [
    "### [Limit with 0^0 form but multivariable version](https://youtu.be/p3Zuj34CJEw)"
   ]
  },
  {
   "cell_type": "code",
   "execution_count": 1,
   "metadata": {},
   "outputs": [],
   "source": [
    "import sympy as sym\n",
    "\n",
    "sym.init_printing(use_unicode=True, order='lex')\n",
    "\n",
    "x, y = sym.symbols('x y')\n",
    "Plus = '+'\n",
    "Minus = '-'\n",
    "PlusMinus = '+-'"
   ]
  },
  {
   "cell_type": "code",
   "execution_count": 2,
   "metadata": {},
   "outputs": [
    {
     "data": {
      "image/png": "[encoded data removed]",
      "text/latex": [
       "$\\displaystyle \\left|{x + y}\\right|^{x^{2} + y^{2}}$"
      ],
      "text/plain": [
       "        2    2\n",
       "       x  + y \n",
       "│x + y│       "
      ]
     },
     "execution_count": 2,
     "metadata": {},
     "output_type": "execute_result"
    }
   ],
   "source": [
    "expr = sym.Abs(x + y)**(x**2 + y**2)\n",
    "expr"
   ]
  },
  {
   "cell_type": "code",
   "execution_count": 3,
   "metadata": {},
   "outputs": [
    {
     "data": {
      "image/png": "[encoded data removed]",
      "text/latex": [
       "$\\displaystyle \\lim_{\\left( x, \\  y\\right) \\to \\left( 0, \\  0\\right)^+} \\left|{x + y}\\right|^{x^{2} + y^{2}}$"
      ],
      "text/plain": [
       "                       2    2\n",
       "                      x  + y \n",
       "      lim      │x + y│       \n",
       "(x, y)─→(0, 0)⁺              "
      ]
     },
     "execution_count": 3,
     "metadata": {},
     "output_type": "execute_result"
    }
   ],
   "source": [
    "# limitation of sympy - this looks good here, but doit() does not complete eval with it\n",
    "lim_zp_looks_good = sym.Limit(expr, (x, y), (0, 0), Plus)\n",
    "lim_zp_looks_good"
   ]
  },
  {
   "cell_type": "code",
   "execution_count": 4,
   "metadata": {},
   "outputs": [
    {
     "data": {
      "image/png": "[encoded data removed]",
      "text/latex": [
       "$\\displaystyle \\left|{x + y}\\right|^{x^{2} + y^{2}}$"
      ],
      "text/plain": [
       "        2    2\n",
       "       x  + y \n",
       "│x + y│       "
      ]
     },
     "execution_count": 4,
     "metadata": {},
     "output_type": "execute_result"
    }
   ],
   "source": [
    "lim_zp_looks_good.doit()  # have not found a param that will cause it to eval to 1 - see nested approach below"
   ]
  },
  {
   "cell_type": "code",
   "execution_count": 5,
   "metadata": {},
   "outputs": [
    {
     "data": {
      "image/png": "[encoded data removed]",
      "text/latex": [
       "$\\displaystyle \\lim_{y \\to 0^+} \\lim_{x \\to 0^+} \\left|{x + y}\\right|^{x^{2} + y^{2}}$"
      ],
      "text/plain": [
       "                  2    2\n",
       "                 x  + y \n",
       " lim  lim │x + y│       \n",
       "y─→0⁺x─→0⁺              "
      ]
     },
     "execution_count": 5,
     "metadata": {},
     "output_type": "execute_result"
    }
   ],
   "source": [
    "lim_zp = sym.Limit(sym.Limit(expr, x, 0, Plus), y, 0, Plus)\n",
    "lim_zp"
   ]
  },
  {
   "cell_type": "code",
   "execution_count": 120,
   "metadata": {},
   "outputs": [
    {
     "data": {
      "image/png": "[encoded data removed]",
      "text/latex": [
       "$\\displaystyle 1$"
      ],
      "text/plain": [
       "1"
      ]
     },
     "execution_count": 120,
     "metadata": {},
     "output_type": "execute_result"
    }
   ],
   "source": [
    "lim_zp.doit()"
   ]
  },
  {
   "cell_type": "code",
   "execution_count": 6,
   "metadata": {},
   "outputs": [
    {
     "data": {
      "image/png": "[encoded data removed]",
      "text/latex": [
       "$\\displaystyle \\lim_{y \\to 0^-} \\lim_{x \\to 0^-} \\left|{x + y}\\right|^{x^{2} + y^{2}}$"
      ],
      "text/plain": [
       "                  2    2\n",
       "                 x  + y \n",
       " lim  lim │x + y│       \n",
       "y─→0⁻x─→0⁻              "
      ]
     },
     "execution_count": 6,
     "metadata": {},
     "output_type": "execute_result"
    }
   ],
   "source": [
    "lim_zm = sym.Limit(sym.Limit(expr, x, 0, Minus), y, 0, Minus)\n",
    "lim_zm"
   ]
  },
  {
   "cell_type": "code",
   "execution_count": 7,
   "metadata": {},
   "outputs": [
    {
     "data": {
      "image/png": "[encoded data removed]",
      "text/latex": [
       "$\\displaystyle 1$"
      ],
      "text/plain": [
       "1"
      ]
     },
     "execution_count": 7,
     "metadata": {},
     "output_type": "execute_result"
    }
   ],
   "source": [
    "lim_zm.doit()"
   ]
  },
  {
   "cell_type": "markdown",
   "metadata": {},
   "source": [
    "### This is what bprp ended up with ...\n",
    "\n",
    "He mentioned that because abs is an even function, x->0+ and x->0- would agree. And so that approach does not help."
   ]
  },
  {
   "cell_type": "markdown",
   "metadata": {},
   "source": [
    "#### along y=0"
   ]
  },
  {
   "cell_type": "code",
   "execution_count": 10,
   "metadata": {},
   "outputs": [
    {
     "data": {
      "image/png": "[encoded data removed]",
      "text/latex": [
       "$\\displaystyle \\left|{x}\\right|^{x^{2}}$"
      ],
      "text/plain": [
       "   ⎛ 2⎞\n",
       "   ⎝x ⎠\n",
       "│x│    "
      ]
     },
     "execution_count": 10,
     "metadata": {},
     "output_type": "execute_result"
    }
   ],
   "source": [
    "expr_y0 = expr.replace(y, 0)\n",
    "expr_y0"
   ]
  },
  {
   "cell_type": "code",
   "execution_count": 11,
   "metadata": {},
   "outputs": [
    {
     "data": {
      "image/png": "[encoded data removed]",
      "text/latex": [
       "$\\displaystyle \\lim_{x \\to 0} \\left|{x}\\right|^{x^{2}}$"
      ],
      "text/plain": [
       "       ⎛ 2⎞\n",
       "       ⎝x ⎠\n",
       "lim │x│    \n",
       "x─→0       "
      ]
     },
     "execution_count": 11,
     "metadata": {},
     "output_type": "execute_result"
    }
   ],
   "source": [
    "lim_y0 = sym.Limit(expr_y0, x, 0, PlusMinus)\n",
    "lim_y0"
   ]
  },
  {
   "cell_type": "code",
   "execution_count": 12,
   "metadata": {},
   "outputs": [
    {
     "data": {
      "image/png": "[encoded data removed]",
      "text/latex": [
       "$\\displaystyle 1$"
      ],
      "text/plain": [
       "1"
      ]
     },
     "execution_count": 12,
     "metadata": {},
     "output_type": "execute_result"
    }
   ],
   "source": [
    "lim_y0.doit()"
   ]
  },
  {
   "cell_type": "markdown",
   "metadata": {},
   "source": [
    "> manually simplify"
   ]
  },
  {
   "cell_type": "code",
   "execution_count": 13,
   "metadata": {},
   "outputs": [
    {
     "data": {
      "image/png": "[encoded data removed]",
      "text/latex": [
       "$\\displaystyle \\lim_{x \\to 0^+} \\left|{x}\\right|^{x^{2}}$"
      ],
      "text/plain": [
       "        ⎛ 2⎞\n",
       "        ⎝x ⎠\n",
       " lim │x│    \n",
       "x─→0⁺       "
      ]
     },
     "execution_count": 13,
     "metadata": {},
     "output_type": "execute_result"
    }
   ],
   "source": [
    "lim = sym.Limit(sym.Abs(x)**x**2, x, 0)\n",
    "lim"
   ]
  },
  {
   "cell_type": "code",
   "execution_count": 14,
   "metadata": {},
   "outputs": [
    {
     "data": {
      "image/png": "[encoded data removed]",
      "text/latex": [
       "$\\displaystyle 1$"
      ],
      "text/plain": [
       "1"
      ]
     },
     "execution_count": 14,
     "metadata": {},
     "output_type": "execute_result"
    }
   ],
   "source": [
    "lim.doit()"
   ]
  },
  {
   "cell_type": "markdown",
   "metadata": {},
   "source": [
    "#### along y = -x"
   ]
  },
  {
   "cell_type": "code",
   "execution_count": 15,
   "metadata": {},
   "outputs": [
    {
     "data": {
      "image/png": "[encoded data removed]",
      "text/latex": [
       "$\\displaystyle 0^{x^{2}}$"
      ],
      "text/plain": [
       " ⎛ 2⎞\n",
       " ⎝x ⎠\n",
       "0    "
      ]
     },
     "execution_count": 15,
     "metadata": {},
     "output_type": "execute_result"
    }
   ],
   "source": [
    "expr_ymx = expr.replace(y, -x)\n",
    "expr_ymx"
   ]
  },
  {
   "cell_type": "code",
   "execution_count": 16,
   "metadata": {},
   "outputs": [
    {
     "data": {
      "image/png": "[encoded data removed]",
      "text/latex": [
       "$\\displaystyle \\lim_{x \\to 0} 0^{x^{2}}$"
      ],
      "text/plain": [
       "     ⎛ 2⎞\n",
       "     ⎝x ⎠\n",
       "lim 0    \n",
       "x─→0     "
      ]
     },
     "execution_count": 16,
     "metadata": {},
     "output_type": "execute_result"
    }
   ],
   "source": [
    "lim_ymx = sym.Limit(expr_ymx, x, 0, PlusMinus)\n",
    "lim_ymx"
   ]
  },
  {
   "cell_type": "code",
   "execution_count": 17,
   "metadata": {},
   "outputs": [
    {
     "data": {
      "image/png": "[encoded data removed]",
      "text/latex": [
       "$\\displaystyle e^{\\lim_{x \\to 0^+}\\left(\\tilde{\\infty} x^{2}\\right)}$"
      ],
      "text/plain": [
       "      ⎛     2⎞\n",
       "  lim ⎝zoo⋅x ⎠\n",
       " x─→0⁺        \n",
       "ℯ             "
      ]
     },
     "execution_count": 17,
     "metadata": {},
     "output_type": "execute_result"
    }
   ],
   "source": [
    "lim_ymx.doit()"
   ]
  },
  {
   "cell_type": "markdown",
   "metadata": {},
   "source": [
    "> manually simplify"
   ]
  },
  {
   "cell_type": "code",
   "execution_count": 18,
   "metadata": {},
   "outputs": [
    {
     "data": {
      "image/png": "[encoded data removed]",
      "text/latex": [
       "$\\displaystyle 0^{x^{2}}$"
      ],
      "text/plain": [
       " ⎛ 2⎞\n",
       " ⎝x ⎠\n",
       "0    "
      ]
     },
     "execution_count": 18,
     "metadata": {},
     "output_type": "execute_result"
    }
   ],
   "source": [
    "expr_2 = sym.Abs(x - x)**(2*x**2)\n",
    "expr_2"
   ]
  },
  {
   "cell_type": "code",
   "execution_count": 19,
   "metadata": {},
   "outputs": [
    {
     "data": {
      "image/png": "[encoded data removed]",
      "text/latex": [
       "$\\displaystyle \\lim_{x \\to 0} 0^{x^{2}}$"
      ],
      "text/plain": [
       "     ⎛ 2⎞\n",
       "     ⎝x ⎠\n",
       "lim 0    \n",
       "x─→0     "
      ]
     },
     "execution_count": 19,
     "metadata": {},
     "output_type": "execute_result"
    }
   ],
   "source": [
    "lim = sym.Limit(expr_2, x, 0, PlusMinus)\n",
    "lim"
   ]
  },
  {
   "cell_type": "code",
   "execution_count": 20,
   "metadata": {},
   "outputs": [
    {
     "data": {
      "image/png": "[encoded data removed]",
      "text/latex": [
       "$\\displaystyle e^{\\lim_{x \\to 0^+}\\left(\\tilde{\\infty} x^{2}\\right)}$"
      ],
      "text/plain": [
       "      ⎛     2⎞\n",
       "  lim ⎝zoo⋅x ⎠\n",
       " x─→0⁺        \n",
       "ℯ             "
      ]
     },
     "execution_count": 20,
     "metadata": {},
     "output_type": "execute_result"
    }
   ],
   "source": [
    "lim.doit()"
   ]
  },
  {
   "cell_type": "markdown",
   "metadata": {},
   "source": [
    "He reasoned that the last limit should be equal to 0 ==> |x - x| is 0, and 0 raised to any power (including 0+ or 0-) approaches 0.\n",
    "\n",
    "And because the 2 limits do not agree (where y=-x and y=0), the original limit does not exist.\n",
    "\n",
    "Answer: **DNE**"
   ]
  }
 ],
 "metadata": {
  "kernelspec": {
   "display_name": ".venv",
   "language": "python",
   "name": "python3"
  },
  "language_info": {
   "codemirror_mode": {
    "name": "ipython",
    "version": 3
   },
   "file_extension": ".py",
   "mimetype": "text/x-python",
   "name": "python",
   "nbconvert_exporter": "python",
   "pygments_lexer": "ipython3",
   "version": "3.12.6"
  }
 },
 "nbformat": 4,
 "nbformat_minor": 2
}
