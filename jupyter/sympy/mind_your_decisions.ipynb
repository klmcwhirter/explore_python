{
 "cells": [
  {
   "cell_type": "markdown",
   "metadata": {},
   "source": [
    "# Misc from MindYourDecisions"
   ]
  },
  {
   "cell_type": "markdown",
   "metadata": {},
   "source": [
    "### [Seemingly Impossible Walking To College Riddle](https://youtu.be/sIvZwgYq8uY)"
   ]
  },
  {
   "cell_type": "code",
   "execution_count": 3,
   "metadata": {},
   "outputs": [],
   "source": [
    "import sympy as sym"
   ]
  },
  {
   "cell_type": "code",
   "execution_count": 4,
   "metadata": {},
   "outputs": [
    {
     "data": {
      "text/plain": [
       "[Eq(d, 20*t + 10/3), Eq(d, 25*t + 5/3)]"
      ]
     },
     "execution_count": 4,
     "metadata": {},
     "output_type": "execute_result"
    }
   ],
   "source": [
    "d, t = sym.symbols('d t', positive=True)\n",
    "\n",
    "eq1 = sym.Eq(d, 20 * (t + sym.Rational(1, 6)))\n",
    "eq2 = sym.Eq(d, 25 * (t + sym.Rational(1, 15)))\n",
    "\n",
    "system = [eq1, eq2]\n",
    "system"
   ]
  },
  {
   "cell_type": "code",
   "execution_count": 8,
   "metadata": {},
   "outputs": [
    {
     "name": "stdout",
     "output_type": "stream",
     "text": [
      "sols={d: 10, t: 1/3}\n",
      "\n",
      "d=10 km/h, t=20 mins\n"
     ]
    }
   ],
   "source": [
    "sols = sym.solve(system)\n",
    "print(f'{sols=}', end='\\n\\n')\n",
    "\n",
    "print(f'd={sols[d]} km/h, t={sols[t] * 60} mins')"
   ]
  }
 ],
 "metadata": {
  "kernelspec": {
   "display_name": ".venv",
   "language": "python",
   "name": "python3"
  },
  "language_info": {
   "codemirror_mode": {
    "name": "ipython",
    "version": 3
   },
   "file_extension": ".py",
   "mimetype": "text/x-python",
   "name": "python",
   "nbconvert_exporter": "python",
   "pygments_lexer": "ipython3",
   "version": "3.12.6"
  }
 },
 "nbformat": 4,
 "nbformat_minor": 2
}
