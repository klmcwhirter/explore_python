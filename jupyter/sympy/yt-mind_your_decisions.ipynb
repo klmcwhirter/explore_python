{
 "cells": [
  {
   "cell_type": "markdown",
   "metadata": {},
   "source": [
    "# Misc from MindYourDecisions"
   ]
  },
  {
   "cell_type": "markdown",
   "metadata": {},
   "source": [
    "#### Local setup"
   ]
  },
  {
   "cell_type": "code",
   "execution_count": 1,
   "metadata": {},
   "outputs": [],
   "source": [
    "import logging\n",
    "\n",
    "import sympy as sym\n",
    "from latex_utils import set_display_level, sym_display_latex\n",
    "\n",
    "set_display_level(logging.DEBUG)"
   ]
  },
  {
   "cell_type": "markdown",
   "metadata": {},
   "source": [
    "### [The internet is truly puzzled by this homework question](https://youtu.be/G8uvniLbeK4) - MindYourDecisions"
   ]
  },
  {
   "cell_type": "code",
   "execution_count": 2,
   "metadata": {},
   "outputs": [
    {
     "data": {
      "text/plain": [
       "{l: 6, s: 42, t: 48}"
      ]
     },
     "execution_count": 2,
     "metadata": {},
     "output_type": "execute_result"
    }
   ],
   "source": [
    "l, s, t = sym.symbols('l s t', integer=True, positive=True)\n",
    "\n",
    "sum_dogs = sym.Eq(t, l + s)\n",
    "total_dogs = sym.Eq(t, 48)  # original states 49 which is impossible at 7 years old\n",
    "small_vs_large = sym.Eq(s, l + 36)\n",
    "\n",
    "system = [\n",
    "    total_dogs,\n",
    "    sum_dogs,\n",
    "    small_vs_large,\n",
    "]\n",
    "\n",
    "sym.solve(system, [l, s, t])"
   ]
  },
  {
   "cell_type": "markdown",
   "metadata": {},
   "source": [
    "### [Seemingly Impossible Walking To College Riddle](https://youtu.be/sIvZwgYq8uY)\n",
    "\n",
    "A student wakes up late and walks to college at 20 km/h and was 10 mins late. The next day he wakes up late again, walks 25 km/h and was 4 mins late.\n",
    "\n",
    "How far does he walk to college?"
   ]
  },
  {
   "cell_type": "code",
   "execution_count": 3,
   "metadata": {},
   "outputs": [
    {
     "data": {
      "text/latex": [
       "$\\displaystyle system\\left[ d = 20 t + \\frac{10}{3}, \\  d = 25 t + \\frac{5}{3}\\right]$"
      ],
      "text/plain": [
       "<IPython.core.display.Math object>"
      ]
     },
     "metadata": {},
     "output_type": "display_data"
    }
   ],
   "source": [
    "d, t = sym.symbols('d t', positive=True)\n",
    "\n",
    "eq1 = sym.Eq(d, 20 * (t + sym.Rational(1, 6)))\n",
    "eq2 = sym.Eq(d, 25 * (t + sym.Rational(1, 15)))\n",
    "\n",
    "system = [eq1, eq2]\n",
    "sym_display_latex('system', system)"
   ]
  },
  {
   "cell_type": "code",
   "execution_count": 4,
   "metadata": {},
   "outputs": [
    {
     "name": "stdout",
     "output_type": "stream",
     "text": [
      "sols={d: 10, t: 1/3}\n",
      "\n",
      "d=10 km/h, t=20 mins\n"
     ]
    }
   ],
   "source": [
    "sols = sym.solve(system)\n",
    "print(f'{sols=}', end='\\n\\n')\n",
    "\n",
    "print(f'd={sols[d]} km/h, t={sols[t] * 60} mins')"
   ]
  }
 ],
 "metadata": {
  "kernelspec": {
   "display_name": ".venv",
   "language": "python",
   "name": "python3"
  },
  "language_info": {
   "codemirror_mode": {
    "name": "ipython",
    "version": 3
   },
   "file_extension": ".py",
   "mimetype": "text/x-python",
   "name": "python",
   "nbconvert_exporter": "python",
   "pygments_lexer": "ipython3",
   "version": "3.12.6"
  }
 },
 "nbformat": 4,
 "nbformat_minor": 2
}
