{
 "cells": [
  {
   "cell_type": "markdown",
   "metadata": {},
   "source": [
    "### [Help.. find the least k so the given quadratic equation has real solutions Reddit A-level maths](https://youtu.be/W7aTh8uKcsI)"
   ]
  },
  {
   "cell_type": "code",
   "execution_count": 37,
   "metadata": {},
   "outputs": [],
   "source": [
    "import sympy as sp\n",
    "\n",
    "sp.init_printing(use_unicode=True, order='lex')\n",
    "\n",
    "k, x = sp.symbols('k x', real=True)\n"
   ]
  },
  {
   "cell_type": "code",
   "execution_count": 38,
   "metadata": {},
   "outputs": [
    {
     "data": {
      "image/png": "[encoded data removed]",
      "text/latex": [
       "$\\displaystyle k^{2} - 2 k x + x^{2} = x + 3$"
      ],
      "text/plain": [
       " 2            2        \n",
       "k  - 2⋅k⋅x + x  = x + 3"
      ]
     },
     "execution_count": 38,
     "metadata": {},
     "output_type": "execute_result"
    }
   ],
   "source": [
    "equation = sp.Eq(x**2 - 2*k*x + k**2, 3 + x)\n",
    "# expr = x**2 - 2*k*x + - x + k**2 - 3 # = 0\n",
    "# expr = x**2 + (- 2*k - 1)*x + (k**2 - 3)  # <== note it's quadratic: a=1, b=(-2*k - 1), c=(k**2 - 3)\n",
    "equation"
   ]
  },
  {
   "cell_type": "code",
   "execution_count": 39,
   "metadata": {},
   "outputs": [
    {
     "data": {
      "image/png": "[encoded data removed]",
      "text/latex": [
       "$\\displaystyle \\mathbb{R} \\cap \\left\\{k - \\frac{\\sqrt{4 k + 13}}{2} + \\frac{1}{2}, k + \\frac{\\sqrt{4 k + 13}}{2} + \\frac{1}{2}\\right\\}$"
      ],
      "text/plain": [
       "    ⎧      __________            __________    ⎫\n",
       "    ⎪    ╲╱ 4⋅k + 13    1      ╲╱ 4⋅k + 13    1⎪\n",
       "ℝ ∩ ⎨k - ──────────── + ─, k + ──────────── + ─⎬\n",
       "    ⎪         2         2           2         2⎪\n",
       "    ⎩                                          ⎭"
      ]
     },
     "execution_count": 39,
     "metadata": {},
     "output_type": "execute_result"
    }
   ],
   "source": [
    "# sp.real_roots(equation, x)  # PolynomialError: only univariate polynomials are allowed\n",
    "\n",
    "sp.solveset(equation, x, domain=sp.S.Reals)"
   ]
  },
  {
   "cell_type": "code",
   "execution_count": 40,
   "metadata": {},
   "outputs": [
    {
     "data": {
      "image/png": "[encoded data removed]",
      "text/latex": [
       "$\\displaystyle 4 k + 13$"
      ],
      "text/plain": [
       "4⋅k + 13"
      ]
     },
     "execution_count": 40,
     "metadata": {},
     "output_type": "execute_result"
    }
   ],
   "source": [
    "poly = sp.Poly(equation, x)\n",
    "poly.discriminant()"
   ]
  },
  {
   "cell_type": "markdown",
   "metadata": {},
   "source": [
    "> In order to assure Real roots, the discriminant must be >= 0, hence ...\n",
    "\n",
    "4k + 13 >= 0\n",
    "\n",
    "k >= -13/4\n",
    "\n",
    "And that is the answer to the original question: **min k value** for real solutions is **-13/4**.\n",
    "\n",
    "But let's go ahead and solve at that min k value ..."
   ]
  },
  {
   "cell_type": "code",
   "execution_count": 41,
   "metadata": {},
   "outputs": [
    {
     "data": {
      "image/png": "[encoded data removed]",
      "text/latex": [
       "$\\displaystyle x^{2} + \\frac{13 x}{2} + \\frac{169}{16} = x + 3$"
      ],
      "text/plain": [
       " 2   13⋅x   169        \n",
       "x  + ──── + ─── = x + 3\n",
       "      2     16         "
      ]
     },
     "execution_count": 41,
     "metadata": {},
     "output_type": "execute_result"
    }
   ],
   "source": [
    "# replace instances of k with its min value to produce Real values so that the polynomial becomes univariate\n",
    "min_k = sp.Rational(-13, 4)\n",
    "eq_min_k = equation.subs({k: min_k})\n",
    "eq_min_k"
   ]
  },
  {
   "cell_type": "code",
   "execution_count": 42,
   "metadata": {},
   "outputs": [
    {
     "data": {
      "image/png": "[encoded data removed]",
      "text/latex": [
       "$\\displaystyle \\left[ \\left( - \\frac{11}{4}, \\  2\\right)\\right]$"
      ],
      "text/plain": [
       "[(-11/4, 2)]"
      ]
     },
     "execution_count": 42,
     "metadata": {},
     "output_type": "execute_result"
    }
   ],
   "source": [
    "sp.real_roots(eq_min_k, multiple=False)\n",
    "# Note multiplicity of 2 !"
   ]
  },
  {
   "cell_type": "code",
   "execution_count": 43,
   "metadata": {},
   "outputs": [
    {
     "data": {
      "image/png": "[encoded data removed]",
      "text/latex": [
       "$\\displaystyle \\left\\{- \\frac{11}{4}\\right\\}$"
      ],
      "text/plain": [
       "{-11/4}"
      ]
     },
     "execution_count": 43,
     "metadata": {},
     "output_type": "execute_result"
    }
   ],
   "source": [
    "sp.solveset(eq_min_k, x, domain=sp.S.Reals)"
   ]
  },
  {
   "cell_type": "markdown",
   "metadata": {},
   "source": [
    "> just for fun ... let's try `k = 3`"
   ]
  },
  {
   "cell_type": "code",
   "execution_count": 44,
   "metadata": {},
   "outputs": [
    {
     "data": {
      "image/png": "[encoded data removed]",
      "text/latex": [
       "$\\displaystyle \\left[ \\left( 1, \\  1\\right), \\  \\left( 6, \\  1\\right)\\right]$"
      ],
      "text/plain": [
       "[(1, 1), (6, 1)]"
      ]
     },
     "execution_count": 44,
     "metadata": {},
     "output_type": "execute_result"
    }
   ],
   "source": [
    "eq_k_3 = equation.subs({k: 3})\n",
    "sp.real_roots(eq_k_3, multiple=False)"
   ]
  },
  {
   "cell_type": "code",
   "execution_count": 45,
   "metadata": {},
   "outputs": [
    {
     "data": {
      "image/png": "[encoded data removed]",
      "text/latex": [
       "$\\displaystyle \\left\\{1, 6\\right\\}$"
      ],
      "text/plain": [
       "{1, 6}"
      ]
     },
     "execution_count": 45,
     "metadata": {},
     "output_type": "execute_result"
    }
   ],
   "source": [
    "x_s = sp.solveset(eq_k_3, x, domain=sp.S.Reals)\n",
    "x_s"
   ]
  },
  {
   "cell_type": "code",
   "execution_count": 46,
   "metadata": {},
   "outputs": [
    {
     "data": {
      "image/png": "[encoded data removed]",
      "text/latex": [
       "$\\displaystyle \\left[ \\left\\{ x : 1\\right\\}, \\  \\left\\{ x : 6\\right\\}\\right]$"
      ],
      "text/plain": [
       "[{x: 1}, {x: 6}]"
      ]
     },
     "execution_count": 46,
     "metadata": {},
     "output_type": "execute_result"
    }
   ],
   "source": [
    "sp.solve(eq_k_3, x, dict=True)"
   ]
  },
  {
   "cell_type": "code",
   "execution_count": 48,
   "metadata": {},
   "outputs": [
    {
     "name": "stdout",
     "output_type": "stream",
     "text": [
      "True\n",
      "True\n"
     ]
    }
   ],
   "source": [
    "# Looking for output of True for each sol ... meaning the equation checks\n",
    "for an_x in x_s:\n",
    "    eq_subs = equation.subs({x: an_x, k: 3})\n",
    "    sp.pprint(eq_subs.doit())"
   ]
  }
 ],
 "metadata": {
  "kernelspec": {
   "display_name": ".venv",
   "language": "python",
   "name": "python3"
  },
  "language_info": {
   "codemirror_mode": {
    "name": "ipython",
    "version": 3
   },
   "file_extension": ".py",
   "mimetype": "text/x-python",
   "name": "python",
   "nbconvert_exporter": "python",
   "pygments_lexer": "ipython3",
   "version": "3.12.6"
  }
 },
 "nbformat": 4,
 "nbformat_minor": 2
}
