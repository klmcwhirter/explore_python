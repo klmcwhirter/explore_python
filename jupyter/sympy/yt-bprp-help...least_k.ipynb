{
 "cells": [
  {
   "cell_type": "markdown",
   "metadata": {},
   "source": [
    "### [Help.. find the least k so the given quadratic equation has real solutions Reddit A-level maths](https://youtu.be/W7aTh8uKcsI)"
   ]
  },
  {
   "cell_type": "code",
   "execution_count": 1,
   "metadata": {},
   "outputs": [],
   "source": [
    "import sympy as sym\n",
    "from latex_utils import sym_display_latex\n",
    "\n",
    "sym.init_printing(use_unicode=True, order='lex')\n",
    "\n",
    "k, x = sym.symbols('k x', real=True)"
   ]
  },
  {
   "cell_type": "code",
   "execution_count": 2,
   "metadata": {},
   "outputs": [
    {
     "data": {
      "text/latex": [
       "$\\displaystyle k^{2} - 2 k x + x^{2} = x + 3$"
      ],
      "text/plain": [
       "<IPython.core.display.Math object>"
      ]
     },
     "metadata": {},
     "output_type": "display_data"
    }
   ],
   "source": [
    "equation = sym.Eq(x**2 - 2*k*x + k**2, 3 + x)\n",
    "# expr = x**2 - 2*k*x + - x + k**2 - 3 # = 0\n",
    "# expr = x**2 + (- 2*k - 1)*x + (k**2 - 3)  # <== note it's quadratic: a=1, b=(-2*k - 1), c=(k**2 - 3)\n",
    "sym_display_latex('', equation)"
   ]
  },
  {
   "cell_type": "code",
   "execution_count": 3,
   "metadata": {},
   "outputs": [
    {
     "data": {
      "text/latex": [
       "$\\displaystyle \\mathbb{R} \\cap \\left\\{k - \\frac{\\sqrt{4 k + 13}}{2} + \\frac{1}{2}, k + \\frac{\\sqrt{4 k + 13}}{2} + \\frac{1}{2}\\right\\}$"
      ],
      "text/plain": [
       "<IPython.core.display.Math object>"
      ]
     },
     "metadata": {},
     "output_type": "display_data"
    }
   ],
   "source": [
    "# sym.real_roots(equation, x)  # PolynomialError: only univariate polynomials are allowed\n",
    "\n",
    "sym_display_latex('', sym.solveset(equation, x, domain=sym.S.Reals))"
   ]
  },
  {
   "cell_type": "code",
   "execution_count": 4,
   "metadata": {},
   "outputs": [
    {
     "data": {
      "text/latex": [
       "$\\displaystyle 4 k + 13$"
      ],
      "text/plain": [
       "<IPython.core.display.Math object>"
      ]
     },
     "metadata": {},
     "output_type": "display_data"
    },
    {
     "data": {
      "text/latex": [
       "$\\displaystyle k = \\left[ - \\frac{13}{4}\\right]$"
      ],
      "text/plain": [
       "<IPython.core.display.Math object>"
      ]
     },
     "metadata": {},
     "output_type": "display_data"
    }
   ],
   "source": [
    "poly = sym.Poly(equation, x)\n",
    "sym_display_latex('', poly.discriminant())\n",
    "\n",
    "sym_display_latex(f'{sym.latex(k)} = ', sym.solve(poly.discriminant(), k))"
   ]
  },
  {
   "cell_type": "markdown",
   "metadata": {},
   "source": [
    "> In order to assure Real roots, the discriminant must be >= 0, hence ...\n",
    "\n",
    "4k + 13 >= 0\n",
    "\n",
    "k >= -13/4\n",
    "\n",
    "And that is the answer to the original question: **min k value** for real solutions is **-13/4**.\n",
    "\n",
    "But let's go ahead and solve at that min k value ..."
   ]
  },
  {
   "cell_type": "code",
   "execution_count": 5,
   "metadata": {},
   "outputs": [
    {
     "data": {
      "text/latex": [
       "$\\displaystyle x^{2} + \\frac{13 x}{2} + \\frac{169}{16} = x + 3$"
      ],
      "text/plain": [
       "<IPython.core.display.Math object>"
      ]
     },
     "metadata": {},
     "output_type": "display_data"
    }
   ],
   "source": [
    "# replace instances of k with its min value to produce Real values so that the polynomial becomes univariate\n",
    "min_k = sym.Rational(-13, 4)\n",
    "eq_min_k = equation.subs({k: min_k})\n",
    "sym_display_latex('', eq_min_k)"
   ]
  },
  {
   "cell_type": "code",
   "execution_count": 6,
   "metadata": {},
   "outputs": [
    {
     "data": {
      "image/png": "[encoded data removed]",
      "text/latex": [
       "$\\displaystyle \\left[ \\left( - \\frac{11}{4}, \\  2\\right)\\right]$"
      ],
      "text/plain": [
       "[(-11/4, 2)]"
      ]
     },
     "execution_count": 6,
     "metadata": {},
     "output_type": "execute_result"
    }
   ],
   "source": [
    "sym.real_roots(eq_min_k, multiple=False)\n",
    "# Note multiplicity of 2 !"
   ]
  },
  {
   "cell_type": "code",
   "execution_count": 7,
   "metadata": {},
   "outputs": [
    {
     "data": {
      "image/png": "[encoded data removed]",
      "text/latex": [
       "$\\displaystyle \\left\\{- \\frac{11}{4}\\right\\}$"
      ],
      "text/plain": [
       "{-11/4}"
      ]
     },
     "execution_count": 7,
     "metadata": {},
     "output_type": "execute_result"
    }
   ],
   "source": [
    "sym.solveset(eq_min_k, x, domain=sym.S.Reals)"
   ]
  },
  {
   "cell_type": "markdown",
   "metadata": {},
   "source": [
    "> just for fun ... let's try `k = 3`"
   ]
  },
  {
   "cell_type": "code",
   "execution_count": 8,
   "metadata": {},
   "outputs": [
    {
     "data": {
      "image/png": "[encoded data removed]",
      "text/latex": [
       "$\\displaystyle \\left[ \\left( 1, \\  1\\right), \\  \\left( 6, \\  1\\right)\\right]$"
      ],
      "text/plain": [
       "[(1, 1), (6, 1)]"
      ]
     },
     "execution_count": 8,
     "metadata": {},
     "output_type": "execute_result"
    }
   ],
   "source": [
    "eq_k_3 = equation.subs({k: 3})\n",
    "sym.real_roots(eq_k_3, multiple=False)"
   ]
  },
  {
   "cell_type": "code",
   "execution_count": 9,
   "metadata": {},
   "outputs": [
    {
     "data": {
      "image/png": "[encoded data removed]",
      "text/latex": [
       "$\\displaystyle \\left\\{1, 6\\right\\}$"
      ],
      "text/plain": [
       "{1, 6}"
      ]
     },
     "execution_count": 9,
     "metadata": {},
     "output_type": "execute_result"
    }
   ],
   "source": [
    "x_s = sym.solveset(eq_k_3, x, domain=sym.S.Reals)\n",
    "x_s"
   ]
  },
  {
   "cell_type": "code",
   "execution_count": 10,
   "metadata": {},
   "outputs": [
    {
     "data": {
      "image/png": "[encoded data removed]",
      "text/latex": [
       "$\\displaystyle \\left[ \\left\\{ x : 1\\right\\}, \\  \\left\\{ x : 6\\right\\}\\right]$"
      ],
      "text/plain": [
       "[{x: 1}, {x: 6}]"
      ]
     },
     "execution_count": 10,
     "metadata": {},
     "output_type": "execute_result"
    }
   ],
   "source": [
    "sym.solve(eq_k_3, x, dict=True)"
   ]
  },
  {
   "cell_type": "code",
   "execution_count": 12,
   "metadata": {},
   "outputs": [
    {
     "data": {
      "text/latex": [
       "$\\displaystyle x = 1, \\quad\\text{True}$"
      ],
      "text/plain": [
       "<IPython.core.display.Math object>"
      ]
     },
     "metadata": {},
     "output_type": "display_data"
    },
    {
     "data": {
      "text/latex": [
       "$\\displaystyle x = 6, \\quad\\text{True}$"
      ],
      "text/plain": [
       "<IPython.core.display.Math object>"
      ]
     },
     "metadata": {},
     "output_type": "display_data"
    }
   ],
   "source": [
    "# Looking for output of True for each sol ... meaning the equation checks\n",
    "for an_x in x_s:\n",
    "    eq_subs = equation.subs({x: an_x, k: 3})\n",
    "    sym_display_latex(f'x = {an_x}, \\\\quad', eq_subs.doit())"
   ]
  }
 ],
 "metadata": {
  "kernelspec": {
   "display_name": ".venv",
   "language": "python",
   "name": "python3"
  },
  "language_info": {
   "codemirror_mode": {
    "name": "ipython",
    "version": 3
   },
   "file_extension": ".py",
   "mimetype": "text/x-python",
   "name": "python",
   "nbconvert_exporter": "python",
   "pygments_lexer": "ipython3",
   "version": "3.12.6"
  }
 },
 "nbformat": 4,
 "nbformat_minor": 2
}
