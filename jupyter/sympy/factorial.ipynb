{
 "cells": [
  {
   "cell_type": "markdown",
   "metadata": {},
   "source": [
    "# factorial test"
   ]
  },
  {
   "cell_type": "code",
   "execution_count": 1,
   "metadata": {},
   "outputs": [],
   "source": [
    "import logging\n",
    "from math import floor, log10\n",
    "\n",
    "import cached_factorial as cf\n",
    "import numpy as np\n",
    "import scipy as sp\n",
    "\n",
    "logging.basicConfig(level=logging.INFO, format='{asctime} - {module} - {funcName} - {levelname} - {message}', style='{')\n",
    "\n",
    "N = 10_000\n",
    "cf.set_cache_size(N)\n",
    "\n",
    "cf.set_progress_frequency(floor(N / 10))"
   ]
  },
  {
   "cell_type": "code",
   "execution_count": 2,
   "metadata": {},
   "outputs": [
    {
     "name": "stdout",
     "output_type": "stream",
     "text": [
      "cf1.config={'CACHE_SIZE': 10000, 'PROGRESS_FREQ': 1000}\n"
     ]
    }
   ],
   "source": [
    "import cached_factorial as cf1\n",
    "print(f'{cf1.config=}')"
   ]
  },
  {
   "cell_type": "code",
   "execution_count": 4,
   "metadata": {},
   "outputs": [],
   "source": [
    "# import sys\n",
    "# sys.set_int_max_str_digits(500_000)\n",
    "\n",
    "# After measuring N=10_000 ...\n",
    "# sys.set_int_max_str_digits(36_000)"
   ]
  },
  {
   "cell_type": "code",
   "execution_count": null,
   "metadata": {},
   "outputs": [],
   "source": [
    "def reset_decorators(decorator=cf.cached_factorial):\n",
    "    if hasattr(decorator, 'cache'):\n",
    "        cf.print_flush(f'before reset: {decorator.cache[:10]=}')\n",
    "        decorator.cache_reset()\n",
    "\n",
    "    if hasattr(decorator, 'counter'):\n",
    "        cf.print_flush(f'before reset: {decorator.counter()=}')\n",
    "        decorator.counter_reset()\n",
    "\n",
    "    if hasattr(decorator, 'counter'):\n",
    "        cf.print_flush(f'{decorator.counter()=}')\n",
    "\n",
    "    if hasattr(decorator, 'cache'):\n",
    "        cf.print_flush(f'{len(decorator.cache)=}')\n",
    "        # cf.print_flush print(f'{decorator.cache=}')\n",
    "\n",
    "        cf.print_flush(f'{decorator.cache[:10]=}')\n",
    "        # cf.print_flush print(f'{decorator.cache_initial=}')\n",
    "\n",
    "\n",
    "reset_decorators()"
   ]
  },
  {
   "cell_type": "code",
   "execution_count": null,
   "metadata": {},
   "outputs": [],
   "source": [
    "reset_decorators(cf.cached_factorial)\n",
    "\n",
    "rc = -1\n",
    "first = -1\n",
    "for i in range(N, 0, -1):\n",
    "    rc = cf.cached_factorial(i)\n",
    "    if i == N:\n",
    "        first = rc\n",
    "cf.print_flush(f'{floor(log10(first))=}')\n",
    "# cf.print_flush(first)\n",
    "\n",
    "reset_decorators(cf.cached_factorial)"
   ]
  },
  {
   "cell_type": "code",
   "execution_count": null,
   "metadata": {},
   "outputs": [],
   "source": [
    "import decimal\n",
    "\n",
    "import mpmath as mpm\n",
    "\n",
    "rc = mpm.factorial(1_000_000)\n",
    "cf.print_flush(f'{rc=}')\n",
    "\n",
    "digits = int(mpm.floor(mpm.log10(rc), prec=0))\n",
    "cf.print_flush(f'rc has {digits=:_}')\n",
    "\n",
    "# np_arr = np.array([rc], dtype=decimal.Decimal)\n",
    "# np_float = np_arr.astype(decimal.Decimal)[0]\n",
    "# np_float  # does not convert - stays as mpf\n",
    "\n",
    "mpm_str = mpm.nstr(rc, digits)\n",
    "cf.print_flush(f'{len(mpm_str)=:_}')\n",
    "cf.print_flush(f'{mpm_str[:10]=}')\n",
    "\n",
    "old_prec = decimal.getcontext().prec\n",
    "cf.print_flush(f'prec was {old_prec}')\n",
    "decimal.getcontext().prec = digits\n",
    "cf.print_flush(f'prec is now {decimal.getcontext().prec:_}')\n",
    "\n",
    "rc_dec = decimal.Decimal(mpm_str)\n",
    "\n",
    "decimal.getcontext().prec = old_prec\n",
    "cf.print_flush(f'prec is now {decimal.getcontext().prec:_}')\n",
    "\n",
    "# rc_dec.as_integer_ratio()\n",
    "cf.print_flush(f'{floor(rc_dec.log10())=:_}')"
   ]
  },
  {
   "cell_type": "code",
   "execution_count": 11,
   "metadata": {},
   "outputs": [
    {
     "name": "stderr",
     "output_type": "stream",
     "text": [
      "2024-10-16 04:23:38,996 - 1042154913 - <module> - INFO - sp.special.factorial(171)=np.float64(inf) is inf\n",
      "2024-10-16 04:23:38,997 - 1042154913 - <module> - INFO - sp.special.factorial(170)=np.float64(7.257415615308e+306) is not inf\n",
      "2024-10-16 04:23:38,998 - 1042154913 - <module> - INFO - rc=np.float64(7.257415615308e+306) is the highest factorial representable\n",
      "2024-10-16 04:23:38,998 - 1042154913 - <module> - INFO - scipi factorial ... begin\n",
      "2024-10-16 04:23:38,999 - 1042154913 - <module> - INFO - processing 100\n",
      "2024-10-16 04:23:39,001 - 1042154913 - <module> - INFO - scipi factorial ... done\n",
      "2024-10-16 04:23:39,002 - 1042154913 - <module> - INFO - first has 307 digits, last_i=170\n"
     ]
    }
   ],
   "source": [
    "SP_N = 170\n",
    "\n",
    "logging.info(f'{sp.special.factorial(171)=} is inf')\n",
    "rc = sp.special.factorial(171)\n",
    "# cf.print_flush(f'{type(rc)=}, {rc=}')\n",
    "\n",
    "logging.info(f'{sp.special.factorial(170)=} is not inf')\n",
    "rc = sp.special.factorial(170)\n",
    "# cf.print_flush(f'{type(rc)=}, {rc=}')\n",
    "logging.info(f'{rc=} is the highest factorial representable')\n",
    "\n",
    "logging.info('scipi factorial ... begin')\n",
    "rc = -1\n",
    "first = -1\n",
    "last_i = -1\n",
    "for i in range(SP_N, 0, -1):\n",
    "    if (i % 100) == 0:\n",
    "        logging.info(f'processing {i}')\n",
    "    rc = sp.special.factorial(i)\n",
    "    # cf.print_flush(f'{rc=}, {type(rc)=}')\n",
    "    if last_i == -1 and rc != np.inf and np.log10(rc) < np.inf:\n",
    "        # logging.debug(f'{i}! = {rc}, log10({rc})={np.log10(rc)}')\n",
    "        last_i = i\n",
    "        first = rc\n",
    "logging.info('scipi factorial ... done')\n",
    "\n",
    "digits = int(np.floor(np.log10(first))) + 1\n",
    "logging.info(f'first has {digits} digits, {last_i=}')"
   ]
  },
  {
   "cell_type": "code",
   "execution_count": 9,
   "metadata": {},
   "outputs": [],
   "source": [
    "#**\n",
    "#** This is painfully slow - 1m 4s for N = 10_000, whereas the previous cell executes in <1s\n",
    "#**\n",
    "\n",
    "# reset_decorators(cf.cached_factorial)\n",
    "\n",
    "# for i in range(N+1):\n",
    "#     rc = cf.cached_factorial(i)\n",
    "# cf.print_flush(floor(log10(rc)))\n",
    "# # cf.print_flush(rc)\n",
    "\n",
    "# reset_decorators(cf.cached_factorial)"
   ]
  },
  {
   "cell_type": "code",
   "execution_count": 10,
   "metadata": {},
   "outputs": [],
   "source": [
    "#**\n",
    "#** This is painfully slow - 10+m for N = 50_000\n",
    "#**\n",
    "\n",
    "# import math\n",
    "\n",
    "# # @cf.progress_emitter(frequency=lambda: N / 1_000, emitter=cf.progress_logger)\n",
    "# @cf.cache(initial=cf.initial_factorial_cache)\n",
    "# def wrapped_factorial(n: int):\n",
    "#     return math.factorial(n)\n",
    "\n",
    "\n",
    "# reset_decorators(wrapped_factorial)\n",
    "\n",
    "# first = -1\n",
    "# for i in range(N, 0, -1):\n",
    "#     rc = wrapped_factorial(i)\n",
    "#     if i == N:\n",
    "#         first = rc\n",
    "# cf.print_flush(log10(first))\n",
    "# # cf.print_flush(first)\n",
    "\n",
    "# reset_decorators(wrapped_factorial)"
   ]
  }
 ],
 "metadata": {
  "kernelspec": {
   "display_name": ".venv",
   "language": "python",
   "name": "python3"
  },
  "language_info": {
   "codemirror_mode": {
    "name": "ipython",
    "version": 3
   },
   "file_extension": ".py",
   "mimetype": "text/x-python",
   "name": "python",
   "nbconvert_exporter": "python",
   "pygments_lexer": "ipython3",
   "version": "3.12.6"
  }
 },
 "nbformat": 4,
 "nbformat_minor": 2
}
