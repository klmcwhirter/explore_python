{
 "cells": [
  {
   "cell_type": "markdown",
   "metadata": {},
   "source": [
    "# PIL img lut exploration\n",
    "\n",
    "From [Jaime Fernández - The Future of NumPy Indexing.](https://youtu.be/o0EacbIbf58)"
   ]
  },
  {
   "cell_type": "code",
   "execution_count": null,
   "metadata": {},
   "outputs": [],
   "source": [
    "import sys\n",
    "\n",
    "import matplotlib.pyplot as plt\n",
    "import numpy as np\n",
    "from PIL import Image\n",
    "\n",
    "print(f'Python {sys.version}')\n",
    "print(f'NumPy {np.version.full_version}')"
   ]
  },
  {
   "cell_type": "code",
   "execution_count": null,
   "metadata": {},
   "outputs": [],
   "source": [
    "img = Image.open('pi-day-2024-histogram.png')\n",
    "img = img.convert('L')\n",
    "print(img.size)\n",
    "# img = img.crop((1000, 150, img.size[0]-1200, img.size[1]-100))\n",
    "# print(img.size)\n",
    "npimg = np.array(img.getdata())\n",
    "npimg = npimg.reshape(img.size[::-1])\n",
    "# npimg = npimg.reshape(img.size[::])\n",
    "print(npimg.shape, npimg.ndim)\n",
    "npimg = npimg[150:-300, 1300:-1300]\n",
    "\n",
    "plt.figure(figsize=(10, 10))\n",
    "plt.imshow(npimg, cmap='gray')"
   ]
  },
  {
   "cell_type": "code",
   "execution_count": null,
   "metadata": {},
   "outputs": [],
   "source": [
    "def sigmoid_lut(n=1):\n",
    "    x = np.linspace(-1, 1, 256)\n",
    "    lut = 1 / (1 + np.exp(-n*x))\n",
    "    lut -= lut.min()\n",
    "    lut /= lut.max()\n",
    "    lut *= 255\n",
    "    return lut.astype(np.uint8)\n",
    "\n",
    "\n",
    "sigmoid_lut(5), sigmoid_lut(3)"
   ]
  },
  {
   "cell_type": "code",
   "execution_count": null,
   "metadata": {},
   "outputs": [],
   "source": [
    "plt.subplot(111, aspect='equal')\n",
    "plt.plot(sigmoid_lut(5), label='n=5')\n",
    "plt.plot(sigmoid_lut(3), label='n=3')\n",
    "plt.xlim(0, 256)\n",
    "plt.ylim(0, 256)\n",
    "plt.legend()"
   ]
  },
  {
   "cell_type": "code",
   "execution_count": 7,
   "metadata": {},
   "outputs": [],
   "source": [
    "def lut_me(img: np.ndarray, lut):\n",
    "    rows, cols = img.shape\n",
    "    out = np.empty_like(img)\n",
    "    for row in range(rows):\n",
    "        for col in range(cols):\n",
    "            out[row, col] = lut[img[row, col]]\n",
    "    return out"
   ]
  },
  {
   "cell_type": "code",
   "execution_count": null,
   "metadata": {},
   "outputs": [],
   "source": [
    "%timeit lut_me(npimg, sigmoid_lut(5))"
   ]
  },
  {
   "cell_type": "code",
   "execution_count": null,
   "metadata": {},
   "outputs": [],
   "source": [
    "%timeit sigmoid_lut(5)[npimg]"
   ]
  },
  {
   "cell_type": "code",
   "execution_count": null,
   "metadata": {},
   "outputs": [],
   "source": [
    "%timeit npimg[sigmoid_lut(5)]"
   ]
  },
  {
   "cell_type": "code",
   "execution_count": null,
   "metadata": {},
   "outputs": [],
   "source": [
    "fig, ax = plt.subplots(2, 3, figsize=(12, 10))\n",
    "\n",
    "ax[0, 0].imshow(npimg, cmap='gray')\n",
    "ax[0, 0].set_title('original')\n",
    "ax[0, 1].imshow(sigmoid_lut(3)[npimg], cmap='gray')\n",
    "ax[0, 1].set_title('sigmoid_lut(3)[npimg]')\n",
    "ax[0, 2].imshow(sigmoid_lut(5)[npimg], cmap='gray')\n",
    "ax[0, 2].set_title('sigmoid_lut(5)[npimg]')\n",
    "\n",
    "ax[1, 0].imshow(npimg, cmap='gray')\n",
    "ax[1, 0].set_title('original')\n",
    "ax[1, 1].imshow(npimg[sigmoid_lut(3)], cmap='gray')\n",
    "ax[1, 1].set_title('npimg[sigmoid_lut(3)]')\n",
    "ax[1, 2].imshow(npimg[sigmoid_lut(5)], cmap='gray')\n",
    "ax[1, 2].set_title('npimg[sigmoid_lut(5)]')\n",
    "\n",
    "''"
   ]
  },
  {
   "cell_type": "code",
   "execution_count": null,
   "metadata": {},
   "outputs": [],
   "source": []
  }
 ],
 "metadata": {
  "kernelspec": {
   "display_name": ".venv",
   "language": "python",
   "name": "python3"
  },
  "language_info": {
   "codemirror_mode": {
    "name": "ipython",
    "version": 3
   },
   "file_extension": ".py",
   "mimetype": "text/x-python",
   "name": "python",
   "nbconvert_exporter": "python",
   "pygments_lexer": "ipython3",
   "version": "3.13.0"
  }
 },
 "nbformat": 4,
 "nbformat_minor": 2
}
